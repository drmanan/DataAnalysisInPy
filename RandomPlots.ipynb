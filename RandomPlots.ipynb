{
 "cells": [
  {
   "cell_type": "code",
   "execution_count": 1,
   "metadata": {
    "collapsed": true,
    "ExecuteTime": {
     "end_time": "2023-07-13T10:44:44.816786900Z",
     "start_time": "2023-07-13T10:44:44.790243400Z"
    }
   },
   "outputs": [],
   "source": [
    "import pandas as pd\n",
    "import matplotlib.pyplot as plt\n",
    "import seaborn as sns"
   ]
  },
  {
   "cell_type": "code",
   "execution_count": 2,
   "outputs": [
    {
     "data": {
      "text/plain": "      Row ID        Order ID Order Date  Ship Date       Ship Mode  \\\n0          1  CA-2016-152156 2016-11-08 2016-11-11    Second Class   \n1          2  CA-2016-152156 2016-11-08 2016-11-11    Second Class   \n2          3  CA-2016-138688 2016-06-12 2016-06-16    Second Class   \n3          4  US-2015-108966 2015-10-11 2015-10-18  Standard Class   \n4          5  US-2015-108966 2015-10-11 2015-10-18  Standard Class   \n...      ...             ...        ...        ...             ...   \n9989    9990  CA-2014-110422 2014-01-21 2014-01-23    Second Class   \n9990    9991  CA-2017-121258 2017-02-26 2017-03-03  Standard Class   \n9991    9992  CA-2017-121258 2017-02-26 2017-03-03  Standard Class   \n9992    9993  CA-2017-121258 2017-02-26 2017-03-03  Standard Class   \n9993    9994  CA-2017-119914 2017-05-04 2017-05-09    Second Class   \n\n     Customer ID     Customer Name    Segment        Country             City  \\\n0       CG-12520       Claire Gute   Consumer  United States        Henderson   \n1       CG-12520       Claire Gute   Consumer  United States        Henderson   \n2       DV-13045   Darrin Van Huff  Corporate  United States      Los Angeles   \n3       SO-20335    Sean O'Donnell   Consumer  United States  Fort Lauderdale   \n4       SO-20335    Sean O'Donnell   Consumer  United States  Fort Lauderdale   \n...          ...               ...        ...            ...              ...   \n9989    TB-21400  Tom Boeckenhauer   Consumer  United States            Miami   \n9990    DB-13060       Dave Brooks   Consumer  United States       Costa Mesa   \n9991    DB-13060       Dave Brooks   Consumer  United States       Costa Mesa   \n9992    DB-13060       Dave Brooks   Consumer  United States       Costa Mesa   \n9993    CC-12220      Chris Cortes   Consumer  United States      Westminster   \n\n      ... Postal Code  Region       Product ID         Category Sub-Category  \\\n0     ...       42420   South  FUR-BO-10001798        Furniture    Bookcases   \n1     ...       42420   South  FUR-CH-10000454        Furniture       Chairs   \n2     ...       90036    West  OFF-LA-10000240  Office Supplies       Labels   \n3     ...       33311   South  FUR-TA-10000577        Furniture       Tables   \n4     ...       33311   South  OFF-ST-10000760  Office Supplies      Storage   \n...   ...         ...     ...              ...              ...          ...   \n9989  ...       33180   South  FUR-FU-10001889        Furniture  Furnishings   \n9990  ...       92627    West  FUR-FU-10000747        Furniture  Furnishings   \n9991  ...       92627    West  TEC-PH-10003645       Technology       Phones   \n9992  ...       92627    West  OFF-PA-10004041  Office Supplies        Paper   \n9993  ...       92683    West  OFF-AP-10002684  Office Supplies   Appliances   \n\n                                           Product Name     Sales  Quantity  \\\n0                     Bush Somerset Collection Bookcase  261.9600         2   \n1     Hon Deluxe Fabric Upholstered Stacking Chairs,...  731.9400         3   \n2     Self-Adhesive Address Labels for Typewriters b...   14.6200         2   \n3         Bretford CR4500 Series Slim Rectangular Table  957.5775         5   \n4                        Eldon Fold 'N Roll Cart System   22.3680         2   \n...                                                 ...       ...       ...   \n9989                             Ultra Door Pull Handle   25.2480         3   \n9990  Tenex B1-RE Series Chair Mats for Low Pile Car...   91.9600         2   \n9991                              Aastra 57i VoIP phone  258.5760         2   \n9992  It's Hot Message Books with Stickers, 2 3/4\" x 5\"   29.6000         4   \n9993  Acco 7-Outlet Masterpiece Power Center, Wihtou...  243.1600         2   \n\n      Discount    Profit  \n0         0.00   41.9136  \n1         0.00  219.5820  \n2         0.00    6.8714  \n3         0.45 -383.0310  \n4         0.20    2.5164  \n...        ...       ...  \n9989      0.20    4.1028  \n9990      0.00   15.6332  \n9991      0.20   19.3932  \n9992      0.00   13.3200  \n9993      0.00   72.9480  \n\n[9994 rows x 21 columns]",
      "text/html": "<div>\n<style scoped>\n    .dataframe tbody tr th:only-of-type {\n        vertical-align: middle;\n    }\n\n    .dataframe tbody tr th {\n        vertical-align: top;\n    }\n\n    .dataframe thead th {\n        text-align: right;\n    }\n</style>\n<table border=\"1\" class=\"dataframe\">\n  <thead>\n    <tr style=\"text-align: right;\">\n      <th></th>\n      <th>Row ID</th>\n      <th>Order ID</th>\n      <th>Order Date</th>\n      <th>Ship Date</th>\n      <th>Ship Mode</th>\n      <th>Customer ID</th>\n      <th>Customer Name</th>\n      <th>Segment</th>\n      <th>Country</th>\n      <th>City</th>\n      <th>...</th>\n      <th>Postal Code</th>\n      <th>Region</th>\n      <th>Product ID</th>\n      <th>Category</th>\n      <th>Sub-Category</th>\n      <th>Product Name</th>\n      <th>Sales</th>\n      <th>Quantity</th>\n      <th>Discount</th>\n      <th>Profit</th>\n    </tr>\n  </thead>\n  <tbody>\n    <tr>\n      <th>0</th>\n      <td>1</td>\n      <td>CA-2016-152156</td>\n      <td>2016-11-08</td>\n      <td>2016-11-11</td>\n      <td>Second Class</td>\n      <td>CG-12520</td>\n      <td>Claire Gute</td>\n      <td>Consumer</td>\n      <td>United States</td>\n      <td>Henderson</td>\n      <td>...</td>\n      <td>42420</td>\n      <td>South</td>\n      <td>FUR-BO-10001798</td>\n      <td>Furniture</td>\n      <td>Bookcases</td>\n      <td>Bush Somerset Collection Bookcase</td>\n      <td>261.9600</td>\n      <td>2</td>\n      <td>0.00</td>\n      <td>41.9136</td>\n    </tr>\n    <tr>\n      <th>1</th>\n      <td>2</td>\n      <td>CA-2016-152156</td>\n      <td>2016-11-08</td>\n      <td>2016-11-11</td>\n      <td>Second Class</td>\n      <td>CG-12520</td>\n      <td>Claire Gute</td>\n      <td>Consumer</td>\n      <td>United States</td>\n      <td>Henderson</td>\n      <td>...</td>\n      <td>42420</td>\n      <td>South</td>\n      <td>FUR-CH-10000454</td>\n      <td>Furniture</td>\n      <td>Chairs</td>\n      <td>Hon Deluxe Fabric Upholstered Stacking Chairs,...</td>\n      <td>731.9400</td>\n      <td>3</td>\n      <td>0.00</td>\n      <td>219.5820</td>\n    </tr>\n    <tr>\n      <th>2</th>\n      <td>3</td>\n      <td>CA-2016-138688</td>\n      <td>2016-06-12</td>\n      <td>2016-06-16</td>\n      <td>Second Class</td>\n      <td>DV-13045</td>\n      <td>Darrin Van Huff</td>\n      <td>Corporate</td>\n      <td>United States</td>\n      <td>Los Angeles</td>\n      <td>...</td>\n      <td>90036</td>\n      <td>West</td>\n      <td>OFF-LA-10000240</td>\n      <td>Office Supplies</td>\n      <td>Labels</td>\n      <td>Self-Adhesive Address Labels for Typewriters b...</td>\n      <td>14.6200</td>\n      <td>2</td>\n      <td>0.00</td>\n      <td>6.8714</td>\n    </tr>\n    <tr>\n      <th>3</th>\n      <td>4</td>\n      <td>US-2015-108966</td>\n      <td>2015-10-11</td>\n      <td>2015-10-18</td>\n      <td>Standard Class</td>\n      <td>SO-20335</td>\n      <td>Sean O'Donnell</td>\n      <td>Consumer</td>\n      <td>United States</td>\n      <td>Fort Lauderdale</td>\n      <td>...</td>\n      <td>33311</td>\n      <td>South</td>\n      <td>FUR-TA-10000577</td>\n      <td>Furniture</td>\n      <td>Tables</td>\n      <td>Bretford CR4500 Series Slim Rectangular Table</td>\n      <td>957.5775</td>\n      <td>5</td>\n      <td>0.45</td>\n      <td>-383.0310</td>\n    </tr>\n    <tr>\n      <th>4</th>\n      <td>5</td>\n      <td>US-2015-108966</td>\n      <td>2015-10-11</td>\n      <td>2015-10-18</td>\n      <td>Standard Class</td>\n      <td>SO-20335</td>\n      <td>Sean O'Donnell</td>\n      <td>Consumer</td>\n      <td>United States</td>\n      <td>Fort Lauderdale</td>\n      <td>...</td>\n      <td>33311</td>\n      <td>South</td>\n      <td>OFF-ST-10000760</td>\n      <td>Office Supplies</td>\n      <td>Storage</td>\n      <td>Eldon Fold 'N Roll Cart System</td>\n      <td>22.3680</td>\n      <td>2</td>\n      <td>0.20</td>\n      <td>2.5164</td>\n    </tr>\n    <tr>\n      <th>...</th>\n      <td>...</td>\n      <td>...</td>\n      <td>...</td>\n      <td>...</td>\n      <td>...</td>\n      <td>...</td>\n      <td>...</td>\n      <td>...</td>\n      <td>...</td>\n      <td>...</td>\n      <td>...</td>\n      <td>...</td>\n      <td>...</td>\n      <td>...</td>\n      <td>...</td>\n      <td>...</td>\n      <td>...</td>\n      <td>...</td>\n      <td>...</td>\n      <td>...</td>\n      <td>...</td>\n    </tr>\n    <tr>\n      <th>9989</th>\n      <td>9990</td>\n      <td>CA-2014-110422</td>\n      <td>2014-01-21</td>\n      <td>2014-01-23</td>\n      <td>Second Class</td>\n      <td>TB-21400</td>\n      <td>Tom Boeckenhauer</td>\n      <td>Consumer</td>\n      <td>United States</td>\n      <td>Miami</td>\n      <td>...</td>\n      <td>33180</td>\n      <td>South</td>\n      <td>FUR-FU-10001889</td>\n      <td>Furniture</td>\n      <td>Furnishings</td>\n      <td>Ultra Door Pull Handle</td>\n      <td>25.2480</td>\n      <td>3</td>\n      <td>0.20</td>\n      <td>4.1028</td>\n    </tr>\n    <tr>\n      <th>9990</th>\n      <td>9991</td>\n      <td>CA-2017-121258</td>\n      <td>2017-02-26</td>\n      <td>2017-03-03</td>\n      <td>Standard Class</td>\n      <td>DB-13060</td>\n      <td>Dave Brooks</td>\n      <td>Consumer</td>\n      <td>United States</td>\n      <td>Costa Mesa</td>\n      <td>...</td>\n      <td>92627</td>\n      <td>West</td>\n      <td>FUR-FU-10000747</td>\n      <td>Furniture</td>\n      <td>Furnishings</td>\n      <td>Tenex B1-RE Series Chair Mats for Low Pile Car...</td>\n      <td>91.9600</td>\n      <td>2</td>\n      <td>0.00</td>\n      <td>15.6332</td>\n    </tr>\n    <tr>\n      <th>9991</th>\n      <td>9992</td>\n      <td>CA-2017-121258</td>\n      <td>2017-02-26</td>\n      <td>2017-03-03</td>\n      <td>Standard Class</td>\n      <td>DB-13060</td>\n      <td>Dave Brooks</td>\n      <td>Consumer</td>\n      <td>United States</td>\n      <td>Costa Mesa</td>\n      <td>...</td>\n      <td>92627</td>\n      <td>West</td>\n      <td>TEC-PH-10003645</td>\n      <td>Technology</td>\n      <td>Phones</td>\n      <td>Aastra 57i VoIP phone</td>\n      <td>258.5760</td>\n      <td>2</td>\n      <td>0.20</td>\n      <td>19.3932</td>\n    </tr>\n    <tr>\n      <th>9992</th>\n      <td>9993</td>\n      <td>CA-2017-121258</td>\n      <td>2017-02-26</td>\n      <td>2017-03-03</td>\n      <td>Standard Class</td>\n      <td>DB-13060</td>\n      <td>Dave Brooks</td>\n      <td>Consumer</td>\n      <td>United States</td>\n      <td>Costa Mesa</td>\n      <td>...</td>\n      <td>92627</td>\n      <td>West</td>\n      <td>OFF-PA-10004041</td>\n      <td>Office Supplies</td>\n      <td>Paper</td>\n      <td>It's Hot Message Books with Stickers, 2 3/4\" x 5\"</td>\n      <td>29.6000</td>\n      <td>4</td>\n      <td>0.00</td>\n      <td>13.3200</td>\n    </tr>\n    <tr>\n      <th>9993</th>\n      <td>9994</td>\n      <td>CA-2017-119914</td>\n      <td>2017-05-04</td>\n      <td>2017-05-09</td>\n      <td>Second Class</td>\n      <td>CC-12220</td>\n      <td>Chris Cortes</td>\n      <td>Consumer</td>\n      <td>United States</td>\n      <td>Westminster</td>\n      <td>...</td>\n      <td>92683</td>\n      <td>West</td>\n      <td>OFF-AP-10002684</td>\n      <td>Office Supplies</td>\n      <td>Appliances</td>\n      <td>Acco 7-Outlet Masterpiece Power Center, Wihtou...</td>\n      <td>243.1600</td>\n      <td>2</td>\n      <td>0.00</td>\n      <td>72.9480</td>\n    </tr>\n  </tbody>\n</table>\n<p>9994 rows × 21 columns</p>\n</div>"
     },
     "execution_count": 2,
     "metadata": {},
     "output_type": "execute_result"
    }
   ],
   "source": [
    "df = pd.read_excel('./Dataset/Superstore.xls')\n",
    "df"
   ],
   "metadata": {
    "collapsed": false,
    "ExecuteTime": {
     "end_time": "2023-07-13T10:44:51.037142800Z",
     "start_time": "2023-07-13T10:44:48.099490500Z"
    }
   }
  },
  {
   "cell_type": "code",
   "execution_count": 6,
   "outputs": [
    {
     "data": {
      "text/plain": "<seaborn.axisgrid.FacetGrid at 0x21ade2aa670>"
     },
     "execution_count": 6,
     "metadata": {},
     "output_type": "execute_result"
    }
   ],
   "source": [
    "sns.relplot(data=df, x='Sales', y='Profit', kind='scatter')"
   ],
   "metadata": {
    "collapsed": false,
    "ExecuteTime": {
     "end_time": "2023-07-13T10:46:42.594704200Z",
     "start_time": "2023-07-13T10:46:41.929518400Z"
    }
   }
  },
  {
   "cell_type": "code",
   "execution_count": null,
   "outputs": [],
   "source": [],
   "metadata": {
    "collapsed": false
   }
  }
 ],
 "metadata": {
  "kernelspec": {
   "display_name": "Python 3",
   "language": "python",
   "name": "python3"
  },
  "language_info": {
   "codemirror_mode": {
    "name": "ipython",
    "version": 2
   },
   "file_extension": ".py",
   "mimetype": "text/x-python",
   "name": "python",
   "nbconvert_exporter": "python",
   "pygments_lexer": "ipython2",
   "version": "2.7.6"
  }
 },
 "nbformat": 4,
 "nbformat_minor": 0
}
