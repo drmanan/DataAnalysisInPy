{
 "cells": [
  {
   "cell_type": "code",
   "execution_count": 4,
   "metadata": {
    "ExecuteTime": {
     "end_time": "2023-06-11T04:44:30.247339300Z",
     "start_time": "2023-06-11T04:44:30.204213300Z"
    },
    "collapsed": true
   },
   "outputs": [],
   "source": [
    "import numpy as np"
   ]
  },
  {
   "cell_type": "code",
   "execution_count": 5,
   "metadata": {
    "ExecuteTime": {
     "end_time": "2023-06-11T04:45:39.069302100Z",
     "start_time": "2023-06-11T04:45:38.075726400Z"
    }
   },
   "outputs": [],
   "source": [
    "n = 100*1000*1000\n",
    "d = np.random.rand(n)\n"
   ]
  },
  {
   "cell_type": "code",
   "execution_count": 6,
   "metadata": {
    "ExecuteTime": {
     "end_time": "2023-06-11T04:45:46.954799Z",
     "start_time": "2023-06-11T04:45:46.657134700Z"
    }
   },
   "outputs": [
    {
     "data": {
      "text/plain": [
       "(100000000,)"
      ]
     },
     "execution_count": 6,
     "metadata": {},
     "output_type": "execute_result"
    }
   ],
   "source": [
    "d.shape"
   ]
  },
  {
   "cell_type": "code",
   "execution_count": 7,
   "metadata": {
    "ExecuteTime": {
     "end_time": "2023-06-11T04:45:56.117728100Z",
     "start_time": "2023-06-11T04:45:56.093475500Z"
    }
   },
   "outputs": [
    {
     "data": {
      "text/plain": [
       "100000000"
      ]
     },
     "execution_count": 7,
     "metadata": {},
     "output_type": "execute_result"
    }
   ],
   "source": [
    "d.size"
   ]
  },
  {
   "cell_type": "code",
   "execution_count": 8,
   "metadata": {
    "ExecuteTime": {
     "end_time": "2023-06-11T04:46:13.085461500Z",
     "start_time": "2023-06-11T04:46:13.032119500Z"
    }
   },
   "outputs": [],
   "source": [
    "import time"
   ]
  },
  {
   "cell_type": "code",
   "execution_count": 9,
   "metadata": {
    "ExecuteTime": {
     "end_time": "2023-06-11T04:48:00.406263900Z",
     "start_time": "2023-06-11T04:48:00.379701800Z"
    }
   },
   "outputs": [],
   "source": [
    "def mean():\n",
    "    sum = 0\n",
    "    for i in range(n):\n",
    "        sum+=d[i]\n",
    "\n",
    "    mean = sum/n\n",
    "    return mean\n",
    "\n"
   ]
  },
  {
   "cell_type": "code",
   "execution_count": 10,
   "metadata": {
    "ExecuteTime": {
     "end_time": "2023-06-11T04:48:02.730476600Z",
     "start_time": "2023-06-11T04:48:02.663011100Z"
    }
   },
   "outputs": [
    {
     "data": {
      "text/plain": [
       "array([0.85184116, 0.39522955, 0.92004503, ..., 0.10949249, 0.61450894,\n",
       "       0.24436804])"
      ]
     },
     "execution_count": 10,
     "metadata": {},
     "output_type": "execute_result"
    }
   ],
   "source": [
    "d"
   ]
  },
  {
   "cell_type": "code",
   "execution_count": 11,
   "metadata": {
    "ExecuteTime": {
     "end_time": "2023-06-11T04:49:49.731420400Z",
     "start_time": "2023-06-11T04:49:30.714794500Z"
    }
   },
   "outputs": [
    {
     "name": "stdout",
     "output_type": "stream",
     "text": [
      "0.49998164361915\n",
      "19.043489933013916\n"
     ]
    }
   ],
   "source": [
    "start_time = time.time()\n",
    "m = mean()\n",
    "end_time = time.time()\n",
    "\n",
    "print(m)\n",
    "print(end_time-start_time)"
   ]
  },
  {
   "cell_type": "code",
   "execution_count": 12,
   "metadata": {
    "ExecuteTime": {
     "end_time": "2023-06-11T04:52:50.685816800Z",
     "start_time": "2023-06-11T04:52:50.626708300Z"
    }
   },
   "outputs": [
    {
     "data": {
      "text/plain": [
       "dtype('float64')"
      ]
     },
     "execution_count": 12,
     "metadata": {},
     "output_type": "execute_result"
    }
   ],
   "source": [
    "d.dtype"
   ]
  },
  {
   "cell_type": "markdown",
   "metadata": {},
   "source": [
    "## Multi-processing"
   ]
  },
  {
   "cell_type": "code",
   "execution_count": 16,
   "metadata": {
    "ExecuteTime": {
     "end_time": "2023-06-11T05:25:08.340767400Z",
     "start_time": "2023-06-11T05:24:48.590783800Z"
    }
   },
   "outputs": [
    {
     "name": "stdout",
     "output_type": "stream",
     "text": [
      "0.499981643619535\n",
      "0.16280531883239746\n"
     ]
    }
   ],
   "source": [
    "from multiprocessing import Process, Queue\n",
    "import math\n",
    "\n",
    "def mean_mp(start, end , queue):\n",
    "    sum = 0\n",
    "    for i in range(start, end+1):\n",
    "        sum+=d[i]\n",
    "\n",
    "    mean = sum/(end-start+1)\n",
    "    queue.put(mean)\n",
    "    return\n",
    "\n",
    "split = math.floor(n/2)\n",
    "\n",
    "q = Queue()\n",
    "\n",
    "p1 = Process(target=mean_mp(0, split, q))\n",
    "p2 = Process(target=mean_mp(split+1, n-1, q))\n",
    "\n",
    "\n",
    "start_time = time.time()\n",
    "\n",
    "p1.start()\n",
    "p2.start()\n",
    "\n",
    "p1.join()\n",
    "p2.join()\n",
    "\n",
    "m = 0\n",
    "\n",
    "while not q.empty():\n",
    "    m+=q.get()\n",
    "\n",
    "m/=2\n",
    "\n",
    "end_time = time.time()\n",
    "\n",
    "print(m)\n",
    "print(end_time-start_time)"
   ]
  },
  {
   "cell_type": "markdown",
   "metadata": {},
   "source": [
    "## Multi-threading"
   ]
  },
  {
   "cell_type": "code",
   "execution_count": 19,
   "metadata": {
    "ExecuteTime": {
     "end_time": "2023-06-11T05:36:09.435331300Z",
     "start_time": "2023-06-11T05:35:49.347611600Z"
    }
   },
   "outputs": [
    {
     "name": "stdout",
     "output_type": "stream",
     "text": [
      "0.499981643619535\n",
      "20.080923080444336\n"
     ]
    }
   ],
   "source": [
    "from threading import Thread\n",
    "\n",
    "means = [0, 0]\n",
    "\n",
    "def mean_mt(start, end, thread_num):\n",
    "    sum = 0\n",
    "    for i in range(start, end+1):\n",
    "        sum = sum + d[i]\n",
    "\n",
    "    mean = sum / (end-start+1)\n",
    "    means[thread_num] = mean\n",
    "    return\n",
    "\n",
    "thread_1 = Thread(target=mean_mt, args=(0, split, 0))\n",
    "thread_2 = Thread(target=mean_mt, args=(split+1, n-1, 1))\n",
    "\n",
    "start_time = time.time()\n",
    "\n",
    "thread_1.start()\n",
    "thread_2.start()\n",
    "\n",
    "thread_1.join()\n",
    "thread_2.join()\n",
    "\n",
    "m = means[0]+means[1]\n",
    "m=m/2\n",
    "\n",
    "end_time = time.time()\n",
    "\n",
    "print(m)\n",
    "print(end_time-start_time)"
   ]
  },
  {
   "cell_type": "markdown",
   "metadata": {},
   "source": [
    "## JobLib"
   ]
  },
  {
   "cell_type": "code",
   "execution_count": 20,
   "metadata": {
    "ExecuteTime": {
     "end_time": "2023-06-11T08:39:09.186981200Z",
     "start_time": "2023-06-11T08:39:01.266813700Z"
    }
   },
   "outputs": [
    {
     "name": "stdout",
     "output_type": "stream",
     "text": [
      "Requirement already satisfied: joblib in c:\\users\\manan\\anaconda3\\lib\\site-packages (1.1.0)\n"
     ]
    }
   ],
   "source": [
    "!pip install joblib"
   ]
  },
  {
   "cell_type": "markdown",
   "metadata": {},
   "source": [
    "### Caching"
   ]
  },
  {
   "cell_type": "code",
   "execution_count": 25,
   "metadata": {
    "ExecuteTime": {
     "end_time": "2023-06-11T08:45:01.291783500Z",
     "start_time": "2023-06-11T08:45:01.256110800Z"
    }
   },
   "outputs": [
    {
     "name": "stdout",
     "output_type": "stream",
     "text": [
      "[[0. 0. 1.]\n",
      " [1. 1. 1.]\n",
      " [4. 2. 1.]]\n",
      "[[ 0.  0.  1.]\n",
      " [ 1.  1.  1.]\n",
      " [16.  4.  1.]]\n"
     ]
    }
   ],
   "source": [
    "from joblib import Memory\n",
    "cache_dir = './cache/'\n",
    "memory = Memory(cache_dir)\n",
    "\n",
    "mat_a = np.vander(np.arange(3)).astype(float)\n",
    "sqare = memory.cache(np.square)\n",
    "\n",
    "print(mat_a)\n",
    "\n",
    "mat_b = sqare(mat_a)\n",
    "print(mat_b)"
   ]
  },
  {
   "cell_type": "markdown",
   "metadata": {},
   "source": [
    "### Loop parallel programming"
   ]
  },
  {
   "cell_type": "code",
   "execution_count": 26,
   "metadata": {
    "ExecuteTime": {
     "end_time": "2023-06-11T08:50:09.259256800Z",
     "start_time": "2023-06-11T08:49:43.263352500Z"
    }
   },
   "outputs": [
    {
     "name": "stdout",
     "output_type": "stream",
     "text": [
      "25.98787546157837\n"
     ]
    }
   ],
   "source": [
    "from math import sqrt\n",
    "\n",
    "def fn(i):\n",
    "    x = 10000\n",
    "    p = 1\n",
    "    for j in range(x):\n",
    "        for k in range(j):\n",
    "            p*=k\n",
    "    return sqrt(i**2)\n",
    "\n",
    "n = 10\n",
    "\n",
    "start_time = time.time()\n",
    "\n",
    "for i in range(n):\n",
    "    fn(i)\n",
    "\n",
    "end_time = time.time()\n",
    "\n",
    "print(end_time-start_time)"
   ]
  },
  {
   "cell_type": "code",
   "execution_count": 28,
   "metadata": {
    "ExecuteTime": {
     "end_time": "2023-06-11T08:55:27.115191100Z",
     "start_time": "2023-06-11T08:55:10.163186100Z"
    }
   },
   "outputs": [
    {
     "name": "stdout",
     "output_type": "stream",
     "text": [
      "16.9275906085968\n"
     ]
    }
   ],
   "source": [
    "from joblib import Parallel, delayed\n",
    "\n",
    "start_time = time.time()\n",
    "\n",
    "Parallel(n_jobs=2)(delayed(fn)(i) for i in range(n))\n",
    "\n",
    "end_time = time.time()\n",
    "\n",
    "print(end_time-start_time)"
   ]
  },
  {
   "cell_type": "code",
   "execution_count": 29,
   "metadata": {
    "ExecuteTime": {
     "end_time": "2023-06-11T09:09:33.942678100Z",
     "start_time": "2023-06-11T09:09:05.892946400Z"
    }
   },
   "outputs": [
    {
     "name": "stdout",
     "output_type": "stream",
     "text": [
      "28.03768801689148\n"
     ]
    }
   ],
   "source": [
    "start_time = time.time()\n",
    "\n",
    "Parallel(n_jobs=2, prefer=\"threads\")(delayed(fn)(i) for i in range(n))\n",
    "\n",
    "end_time = time.time()\n",
    "\n",
    "print(end_time-start_time)"
   ]
  },
  {
   "cell_type": "code",
   "execution_count": 30,
   "metadata": {
    "ExecuteTime": {
     "end_time": "2023-06-11T09:10:13.781997Z",
     "start_time": "2023-06-11T09:10:01.610416500Z"
    }
   },
   "outputs": [
    {
     "name": "stdout",
     "output_type": "stream",
     "text": [
      "12.169411897659302\n"
     ]
    }
   ],
   "source": [
    "from joblib import Parallel, delayed\n",
    "\n",
    "start_time = time.time()\n",
    "\n",
    "Parallel(n_jobs=-1)(delayed(fn)(i) for i in range(n))\n",
    "\n",
    "end_time = time.time()\n",
    "\n",
    "print(end_time-start_time)"
   ]
  },
  {
   "cell_type": "markdown",
   "metadata": {},
   "source": [
    "## NumPy vs Numba - *Matrix Multiplication*"
   ]
  },
  {
   "cell_type": "code",
   "execution_count": 31,
   "metadata": {
    "ExecuteTime": {
     "end_time": "2023-06-11T09:11:38.517358Z",
     "start_time": "2023-06-11T09:11:33.135976500Z"
    }
   },
   "outputs": [
    {
     "name": "stdout",
     "output_type": "stream",
     "text": [
      "Requirement already satisfied: numba in c:\\users\\manan\\anaconda3\\lib\\site-packages (0.55.1)\n",
      "Requirement already satisfied: llvmlite<0.39,>=0.38.0rc1 in c:\\users\\manan\\anaconda3\\lib\\site-packages (from numba) (0.38.0)\n",
      "Requirement already satisfied: setuptools in c:\\users\\manan\\anaconda3\\lib\\site-packages (from numba) (63.4.1)\n",
      "Requirement already satisfied: numpy<1.22,>=1.18 in c:\\users\\manan\\anaconda3\\lib\\site-packages (from numba) (1.21.5)\n"
     ]
    }
   ],
   "source": [
    "!pip install numba"
   ]
  },
  {
   "cell_type": "code",
   "execution_count": 33,
   "metadata": {
    "ExecuteTime": {
     "end_time": "2023-06-11T09:23:34.389950500Z",
     "start_time": "2023-06-11T09:23:31.724355100Z"
    }
   },
   "outputs": [
    {
     "name": "stdout",
     "output_type": "stream",
     "text": [
      "2.5895557403564453\n"
     ]
    }
   ],
   "source": [
    "from numba import njit, prange\n",
    "\n",
    "@njit(parallel=True)\n",
    "def matrix_multiplication(matrix_a, matrix_b):\n",
    "    assert matrix_a.shape[1]==matrix_b.shape[0]\n",
    "    result = np.zeros((matrix_a.shape[0], matrix_b.shape[1]), )\n",
    "    for i in prange(matrix_a.shape[0]):\n",
    "        for k in prange(matrix_a.shape[1]):\n",
    "            for j in prange(matrix_b.shape[1]):\n",
    "                result[i,j] += matrix_a[i,k]*matrix_b[k,j]\n",
    "    return result\n",
    "\n",
    "m, n, c = 1000, 1500, 1200\n",
    "\n",
    "matrix_a = np.random.randint(1,50,size=(m,n))\n",
    "matrix_b = np.random.randint(1,50,size=(n,c))\n",
    "\n",
    "\n",
    "start_time = time.time()\n",
    "\n",
    "result = matrix_multiplication(matrix_a, matrix_b)\n",
    "\n",
    "end_time = time.time()\n",
    "\n",
    "print(end_time-start_time)"
   ]
  },
  {
   "cell_type": "code",
   "execution_count": 34,
   "metadata": {
    "ExecuteTime": {
     "end_time": "2023-06-11T09:25:12.985978800Z",
     "start_time": "2023-06-11T09:25:07.744689100Z"
    }
   },
   "outputs": [
    {
     "name": "stdout",
     "output_type": "stream",
     "text": [
      "5.2315332889556885\n"
     ]
    }
   ],
   "source": [
    "start_time = time.time()\n",
    "\n",
    "np.matmul(matrix_a, matrix_b)\n",
    "\n",
    "end_time = time.time()\n",
    "\n",
    "print(end_time-start_time)"
   ]
  },
  {
   "cell_type": "markdown",
   "metadata": {},
   "source": [
    "# DO NOT RUN\n",
    "\n",
    "> **CAUTION**\n",
    "This code takes around **595 sec** on i9, 12th gen\n",
    "This code takes around **22 min** on i5, 10th gen\n",
    "\n",
    "\n",
    "## PLEASE NOTICE\n",
    "\n",
    "> ***WARNING*** **If you are using your sys locally**: This will take a long time. ***DO NOT RUN ON LAPTOP/DESKTOP***"
   ]
  },
  {
   "cell_type": "code",
   "execution_count": null,
   "metadata": {},
   "outputs": [],
   "source": [
    "def standard_matrix_multiplication(matrix_a, matrix_b):\n",
    "    assert matrix_a.shape[1]==matrix_b.shape[0]\n",
    "    result = np.zeros((matrix_a.shape[0], matrix_b.shape[1]), )\n",
    "    for i in prange(matrix_a.shape[0]):\n",
    "        for k in prange(matrix_a.shape[1]):\n",
    "            for j in prange(matrix_b.shape[1]):\n",
    "                result[i,j] += matrix_a[i,k]*matrix_b[k,j]\n",
    "    return result\n",
    "\n",
    "start_time = time.time()\n",
    "\n",
    "matrix_multiplication(matrix_a, matrix_b)\n",
    "\n",
    "end_time = time.time()\n",
    "\n",
    "print(end_time-start_time)"
   ]
  }
 ],
 "metadata": {
  "kernelspec": {
   "display_name": "Python 3 (ipykernel)",
   "language": "python",
   "name": "python3"
  },
  "language_info": {
   "codemirror_mode": {
    "name": "ipython",
    "version": 3
   },
   "file_extension": ".py",
   "mimetype": "text/x-python",
   "name": "python",
   "nbconvert_exporter": "python",
   "pygments_lexer": "ipython3",
   "version": "3.9.13"
  }
 },
 "nbformat": 4,
 "nbformat_minor": 1
}
