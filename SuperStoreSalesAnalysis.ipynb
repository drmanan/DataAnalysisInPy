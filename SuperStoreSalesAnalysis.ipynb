{
 "cells": [
  {
   "cell_type": "markdown",
   "source": [
    "# Super Store Sales Analysis\n",
    "## Analyse sales data of Super Store mart and identify opportunities to boost business growth.\n",
    "Super Store is a small retail business located in the United States. They sell Furniture, Office Supplies and Technology products, and their customers are the mass Consumer, Corporate and Home Offices.\n",
    "The [data set(in CSV)](https://www.kaggle.com/datasets/vivek468/superstore-dataset-final) contains sales, profit and geographical information of Super Store. [Dataset in Excel](https://community.tableau.com/s/question/0D54T00000CWeX8SAL/sample-superstore-sales-excelxls).\n",
    "Our task is to analyse the sales data and identify weak areas and opportunities for \"Super-Store\" to boost business growth.\n",
    "\n",
    "### Business Questions\n",
    "- Which Category is Best Selling and Most Profitable?\n",
    "- What are the Best Selling and Most Profitable Sub-Category?\n",
    "- Which is the Top Selling Sub-Category?\n",
    "- Which Customer Segment is Most Profitable?\n",
    "- Which is the Preferred Ship Mode?\n",
    "- Which Region is the Most Profitable?\n",
    "- Which City has the Highest Number of Sales?\n",
    "\n",
    "### Preparing the Environment\n",
    "We will import the required libraries and read in the data set.\n",
    "- Pandas — Data manipulation\n",
    "- Matplotlib and Seaborn — Data visualisation"
   ],
   "metadata": {
    "collapsed": false
   }
  },
  {
   "cell_type": "code",
   "execution_count": 1,
   "metadata": {
    "collapsed": true,
    "ExecuteTime": {
     "end_time": "2023-07-16T18:59:15.360083300Z",
     "start_time": "2023-07-16T18:59:15.303614900Z"
    }
   },
   "outputs": [],
   "source": [
    "# Import libraries and alias for easy reading\n",
    "import pandas as pd\n",
    "import matplotlib.pyplot as plt\n",
    "import seaborn as sns"
   ]
  },
  {
   "cell_type": "markdown",
   "source": [
    "## About Dataset\n",
    "### Context\n",
    "With growing demands and cut-throat competitions in the market, a Superstore Giant is seeking your knowledge in understanding what works best for them. They would like to understand which products, regions, categories and customer segments they should target or avoid. \n",
    "\n",
    "// TODO\n",
    "You can even take this a step further and try and build a Regression model to predict Sales or Profit.\n",
    "\n",
    "### Metadata\n",
    "- Row ID => Unique ID for each row.\n",
    "- Order ID => Unique Order ID for each Customer.\n",
    "- Order Date => Order Date of the product.\n",
    "- Ship Date => Shipping Date of the Product.\n",
    "- Ship Mode=> Shipping Mode specified by the Customer.\n",
    "- Customer ID => Unique ID to identify each Customer.\n",
    "- Customer Name => Name of the Customer.\n",
    "- Segment => The segment where the Customer belongs.\n",
    "- Country => Customer's country of residence.\n",
    "- City =>  Customer's City of residence.\n",
    "- State =>  Customer's state of residence.\n",
    "- Postal Code => Postal Code of every Customer.\n",
    "- Region => Region where the Customer belongs.\n",
    "- Product ID => Unique ID of the Product.\n",
    "- Category => Category of the product ordered.\n",
    "- Sub-Category => Sub-Category of the product ordered.\n",
    "- Product Name => Name of the Product.\n",
    "- Sales => Sales of the Product.\n",
    "- Quantity => Quantity of the Product.\n",
    "- Discount => Discount provided.\n",
    "- Profit => Profit/Loss incurred."
   ],
   "metadata": {
    "collapsed": false
   }
  },
  {
   "cell_type": "code",
   "execution_count": 2,
   "outputs": [
    {
     "data": {
      "text/plain": "      Row ID        Order ID Order Date  Ship Date       Ship Mode  \\\n0          1  CA-2016-152156 2016-11-08 2016-11-11    Second Class   \n1          2  CA-2016-152156 2016-11-08 2016-11-11    Second Class   \n2          3  CA-2016-138688 2016-06-12 2016-06-16    Second Class   \n3          4  US-2015-108966 2015-10-11 2015-10-18  Standard Class   \n4          5  US-2015-108966 2015-10-11 2015-10-18  Standard Class   \n...      ...             ...        ...        ...             ...   \n9989    9990  CA-2014-110422 2014-01-21 2014-01-23    Second Class   \n9990    9991  CA-2017-121258 2017-02-26 2017-03-03  Standard Class   \n9991    9992  CA-2017-121258 2017-02-26 2017-03-03  Standard Class   \n9992    9993  CA-2017-121258 2017-02-26 2017-03-03  Standard Class   \n9993    9994  CA-2017-119914 2017-05-04 2017-05-09    Second Class   \n\n     Customer ID     Customer Name    Segment        Country             City  \\\n0       CG-12520       Claire Gute   Consumer  United States        Henderson   \n1       CG-12520       Claire Gute   Consumer  United States        Henderson   \n2       DV-13045   Darrin Van Huff  Corporate  United States      Los Angeles   \n3       SO-20335    Sean O'Donnell   Consumer  United States  Fort Lauderdale   \n4       SO-20335    Sean O'Donnell   Consumer  United States  Fort Lauderdale   \n...          ...               ...        ...            ...              ...   \n9989    TB-21400  Tom Boeckenhauer   Consumer  United States            Miami   \n9990    DB-13060       Dave Brooks   Consumer  United States       Costa Mesa   \n9991    DB-13060       Dave Brooks   Consumer  United States       Costa Mesa   \n9992    DB-13060       Dave Brooks   Consumer  United States       Costa Mesa   \n9993    CC-12220      Chris Cortes   Consumer  United States      Westminster   \n\n      ... Postal Code  Region       Product ID         Category Sub-Category  \\\n0     ...       42420   South  FUR-BO-10001798        Furniture    Bookcases   \n1     ...       42420   South  FUR-CH-10000454        Furniture       Chairs   \n2     ...       90036    West  OFF-LA-10000240  Office Supplies       Labels   \n3     ...       33311   South  FUR-TA-10000577        Furniture       Tables   \n4     ...       33311   South  OFF-ST-10000760  Office Supplies      Storage   \n...   ...         ...     ...              ...              ...          ...   \n9989  ...       33180   South  FUR-FU-10001889        Furniture  Furnishings   \n9990  ...       92627    West  FUR-FU-10000747        Furniture  Furnishings   \n9991  ...       92627    West  TEC-PH-10003645       Technology       Phones   \n9992  ...       92627    West  OFF-PA-10004041  Office Supplies        Paper   \n9993  ...       92683    West  OFF-AP-10002684  Office Supplies   Appliances   \n\n                                           Product Name     Sales  Quantity  \\\n0                     Bush Somerset Collection Bookcase  261.9600         2   \n1     Hon Deluxe Fabric Upholstered Stacking Chairs,...  731.9400         3   \n2     Self-Adhesive Address Labels for Typewriters b...   14.6200         2   \n3         Bretford CR4500 Series Slim Rectangular Table  957.5775         5   \n4                        Eldon Fold 'N Roll Cart System   22.3680         2   \n...                                                 ...       ...       ...   \n9989                             Ultra Door Pull Handle   25.2480         3   \n9990  Tenex B1-RE Series Chair Mats for Low Pile Car...   91.9600         2   \n9991                              Aastra 57i VoIP phone  258.5760         2   \n9992  It's Hot Message Books with Stickers, 2 3/4\" x 5\"   29.6000         4   \n9993  Acco 7-Outlet Masterpiece Power Center, Wihtou...  243.1600         2   \n\n      Discount    Profit  \n0         0.00   41.9136  \n1         0.00  219.5820  \n2         0.00    6.8714  \n3         0.45 -383.0310  \n4         0.20    2.5164  \n...        ...       ...  \n9989      0.20    4.1028  \n9990      0.00   15.6332  \n9991      0.20   19.3932  \n9992      0.00   13.3200  \n9993      0.00   72.9480  \n\n[9994 rows x 21 columns]",
      "text/html": "<div>\n<style scoped>\n    .dataframe tbody tr th:only-of-type {\n        vertical-align: middle;\n    }\n\n    .dataframe tbody tr th {\n        vertical-align: top;\n    }\n\n    .dataframe thead th {\n        text-align: right;\n    }\n</style>\n<table border=\"1\" class=\"dataframe\">\n  <thead>\n    <tr style=\"text-align: right;\">\n      <th></th>\n      <th>Row ID</th>\n      <th>Order ID</th>\n      <th>Order Date</th>\n      <th>Ship Date</th>\n      <th>Ship Mode</th>\n      <th>Customer ID</th>\n      <th>Customer Name</th>\n      <th>Segment</th>\n      <th>Country</th>\n      <th>City</th>\n      <th>...</th>\n      <th>Postal Code</th>\n      <th>Region</th>\n      <th>Product ID</th>\n      <th>Category</th>\n      <th>Sub-Category</th>\n      <th>Product Name</th>\n      <th>Sales</th>\n      <th>Quantity</th>\n      <th>Discount</th>\n      <th>Profit</th>\n    </tr>\n  </thead>\n  <tbody>\n    <tr>\n      <th>0</th>\n      <td>1</td>\n      <td>CA-2016-152156</td>\n      <td>2016-11-08</td>\n      <td>2016-11-11</td>\n      <td>Second Class</td>\n      <td>CG-12520</td>\n      <td>Claire Gute</td>\n      <td>Consumer</td>\n      <td>United States</td>\n      <td>Henderson</td>\n      <td>...</td>\n      <td>42420</td>\n      <td>South</td>\n      <td>FUR-BO-10001798</td>\n      <td>Furniture</td>\n      <td>Bookcases</td>\n      <td>Bush Somerset Collection Bookcase</td>\n      <td>261.9600</td>\n      <td>2</td>\n      <td>0.00</td>\n      <td>41.9136</td>\n    </tr>\n    <tr>\n      <th>1</th>\n      <td>2</td>\n      <td>CA-2016-152156</td>\n      <td>2016-11-08</td>\n      <td>2016-11-11</td>\n      <td>Second Class</td>\n      <td>CG-12520</td>\n      <td>Claire Gute</td>\n      <td>Consumer</td>\n      <td>United States</td>\n      <td>Henderson</td>\n      <td>...</td>\n      <td>42420</td>\n      <td>South</td>\n      <td>FUR-CH-10000454</td>\n      <td>Furniture</td>\n      <td>Chairs</td>\n      <td>Hon Deluxe Fabric Upholstered Stacking Chairs,...</td>\n      <td>731.9400</td>\n      <td>3</td>\n      <td>0.00</td>\n      <td>219.5820</td>\n    </tr>\n    <tr>\n      <th>2</th>\n      <td>3</td>\n      <td>CA-2016-138688</td>\n      <td>2016-06-12</td>\n      <td>2016-06-16</td>\n      <td>Second Class</td>\n      <td>DV-13045</td>\n      <td>Darrin Van Huff</td>\n      <td>Corporate</td>\n      <td>United States</td>\n      <td>Los Angeles</td>\n      <td>...</td>\n      <td>90036</td>\n      <td>West</td>\n      <td>OFF-LA-10000240</td>\n      <td>Office Supplies</td>\n      <td>Labels</td>\n      <td>Self-Adhesive Address Labels for Typewriters b...</td>\n      <td>14.6200</td>\n      <td>2</td>\n      <td>0.00</td>\n      <td>6.8714</td>\n    </tr>\n    <tr>\n      <th>3</th>\n      <td>4</td>\n      <td>US-2015-108966</td>\n      <td>2015-10-11</td>\n      <td>2015-10-18</td>\n      <td>Standard Class</td>\n      <td>SO-20335</td>\n      <td>Sean O'Donnell</td>\n      <td>Consumer</td>\n      <td>United States</td>\n      <td>Fort Lauderdale</td>\n      <td>...</td>\n      <td>33311</td>\n      <td>South</td>\n      <td>FUR-TA-10000577</td>\n      <td>Furniture</td>\n      <td>Tables</td>\n      <td>Bretford CR4500 Series Slim Rectangular Table</td>\n      <td>957.5775</td>\n      <td>5</td>\n      <td>0.45</td>\n      <td>-383.0310</td>\n    </tr>\n    <tr>\n      <th>4</th>\n      <td>5</td>\n      <td>US-2015-108966</td>\n      <td>2015-10-11</td>\n      <td>2015-10-18</td>\n      <td>Standard Class</td>\n      <td>SO-20335</td>\n      <td>Sean O'Donnell</td>\n      <td>Consumer</td>\n      <td>United States</td>\n      <td>Fort Lauderdale</td>\n      <td>...</td>\n      <td>33311</td>\n      <td>South</td>\n      <td>OFF-ST-10000760</td>\n      <td>Office Supplies</td>\n      <td>Storage</td>\n      <td>Eldon Fold 'N Roll Cart System</td>\n      <td>22.3680</td>\n      <td>2</td>\n      <td>0.20</td>\n      <td>2.5164</td>\n    </tr>\n    <tr>\n      <th>...</th>\n      <td>...</td>\n      <td>...</td>\n      <td>...</td>\n      <td>...</td>\n      <td>...</td>\n      <td>...</td>\n      <td>...</td>\n      <td>...</td>\n      <td>...</td>\n      <td>...</td>\n      <td>...</td>\n      <td>...</td>\n      <td>...</td>\n      <td>...</td>\n      <td>...</td>\n      <td>...</td>\n      <td>...</td>\n      <td>...</td>\n      <td>...</td>\n      <td>...</td>\n      <td>...</td>\n    </tr>\n    <tr>\n      <th>9989</th>\n      <td>9990</td>\n      <td>CA-2014-110422</td>\n      <td>2014-01-21</td>\n      <td>2014-01-23</td>\n      <td>Second Class</td>\n      <td>TB-21400</td>\n      <td>Tom Boeckenhauer</td>\n      <td>Consumer</td>\n      <td>United States</td>\n      <td>Miami</td>\n      <td>...</td>\n      <td>33180</td>\n      <td>South</td>\n      <td>FUR-FU-10001889</td>\n      <td>Furniture</td>\n      <td>Furnishings</td>\n      <td>Ultra Door Pull Handle</td>\n      <td>25.2480</td>\n      <td>3</td>\n      <td>0.20</td>\n      <td>4.1028</td>\n    </tr>\n    <tr>\n      <th>9990</th>\n      <td>9991</td>\n      <td>CA-2017-121258</td>\n      <td>2017-02-26</td>\n      <td>2017-03-03</td>\n      <td>Standard Class</td>\n      <td>DB-13060</td>\n      <td>Dave Brooks</td>\n      <td>Consumer</td>\n      <td>United States</td>\n      <td>Costa Mesa</td>\n      <td>...</td>\n      <td>92627</td>\n      <td>West</td>\n      <td>FUR-FU-10000747</td>\n      <td>Furniture</td>\n      <td>Furnishings</td>\n      <td>Tenex B1-RE Series Chair Mats for Low Pile Car...</td>\n      <td>91.9600</td>\n      <td>2</td>\n      <td>0.00</td>\n      <td>15.6332</td>\n    </tr>\n    <tr>\n      <th>9991</th>\n      <td>9992</td>\n      <td>CA-2017-121258</td>\n      <td>2017-02-26</td>\n      <td>2017-03-03</td>\n      <td>Standard Class</td>\n      <td>DB-13060</td>\n      <td>Dave Brooks</td>\n      <td>Consumer</td>\n      <td>United States</td>\n      <td>Costa Mesa</td>\n      <td>...</td>\n      <td>92627</td>\n      <td>West</td>\n      <td>TEC-PH-10003645</td>\n      <td>Technology</td>\n      <td>Phones</td>\n      <td>Aastra 57i VoIP phone</td>\n      <td>258.5760</td>\n      <td>2</td>\n      <td>0.20</td>\n      <td>19.3932</td>\n    </tr>\n    <tr>\n      <th>9992</th>\n      <td>9993</td>\n      <td>CA-2017-121258</td>\n      <td>2017-02-26</td>\n      <td>2017-03-03</td>\n      <td>Standard Class</td>\n      <td>DB-13060</td>\n      <td>Dave Brooks</td>\n      <td>Consumer</td>\n      <td>United States</td>\n      <td>Costa Mesa</td>\n      <td>...</td>\n      <td>92627</td>\n      <td>West</td>\n      <td>OFF-PA-10004041</td>\n      <td>Office Supplies</td>\n      <td>Paper</td>\n      <td>It's Hot Message Books with Stickers, 2 3/4\" x 5\"</td>\n      <td>29.6000</td>\n      <td>4</td>\n      <td>0.00</td>\n      <td>13.3200</td>\n    </tr>\n    <tr>\n      <th>9993</th>\n      <td>9994</td>\n      <td>CA-2017-119914</td>\n      <td>2017-05-04</td>\n      <td>2017-05-09</td>\n      <td>Second Class</td>\n      <td>CC-12220</td>\n      <td>Chris Cortes</td>\n      <td>Consumer</td>\n      <td>United States</td>\n      <td>Westminster</td>\n      <td>...</td>\n      <td>92683</td>\n      <td>West</td>\n      <td>OFF-AP-10002684</td>\n      <td>Office Supplies</td>\n      <td>Appliances</td>\n      <td>Acco 7-Outlet Masterpiece Power Center, Wihtou...</td>\n      <td>243.1600</td>\n      <td>2</td>\n      <td>0.00</td>\n      <td>72.9480</td>\n    </tr>\n  </tbody>\n</table>\n<p>9994 rows × 21 columns</p>\n</div>"
     },
     "execution_count": 2,
     "metadata": {},
     "output_type": "execute_result"
    }
   ],
   "source": [
    "# Read data and set to a dataframe \n",
    "df = pd.read_excel('./Dataset/Superstore.xls')\n",
    "df"
   ],
   "metadata": {
    "collapsed": false,
    "ExecuteTime": {
     "end_time": "2023-07-16T19:06:14.020527800Z",
     "start_time": "2023-07-16T19:06:09.979211Z"
    }
   }
  },
  {
   "cell_type": "markdown",
   "source": [
    "### Data Exploration\n",
    "Let’s have a look at the data using df.head() and df.tail() function."
   ],
   "metadata": {
    "collapsed": false
   }
  },
  {
   "cell_type": "code",
   "execution_count": 5,
   "outputs": [
    {
     "data": {
      "text/plain": "   Row ID        Order ID Order Date  Ship Date       Ship Mode Customer ID  \\\n0       1  CA-2016-152156 2016-11-08 2016-11-11    Second Class    CG-12520   \n1       2  CA-2016-152156 2016-11-08 2016-11-11    Second Class    CG-12520   \n2       3  CA-2016-138688 2016-06-12 2016-06-16    Second Class    DV-13045   \n3       4  US-2015-108966 2015-10-11 2015-10-18  Standard Class    SO-20335   \n4       5  US-2015-108966 2015-10-11 2015-10-18  Standard Class    SO-20335   \n\n     Customer Name    Segment        Country             City  ...  \\\n0      Claire Gute   Consumer  United States        Henderson  ...   \n1      Claire Gute   Consumer  United States        Henderson  ...   \n2  Darrin Van Huff  Corporate  United States      Los Angeles  ...   \n3   Sean O'Donnell   Consumer  United States  Fort Lauderdale  ...   \n4   Sean O'Donnell   Consumer  United States  Fort Lauderdale  ...   \n\n  Postal Code  Region       Product ID         Category Sub-Category  \\\n0       42420   South  FUR-BO-10001798        Furniture    Bookcases   \n1       42420   South  FUR-CH-10000454        Furniture       Chairs   \n2       90036    West  OFF-LA-10000240  Office Supplies       Labels   \n3       33311   South  FUR-TA-10000577        Furniture       Tables   \n4       33311   South  OFF-ST-10000760  Office Supplies      Storage   \n\n                                        Product Name     Sales  Quantity  \\\n0                  Bush Somerset Collection Bookcase  261.9600         2   \n1  Hon Deluxe Fabric Upholstered Stacking Chairs,...  731.9400         3   \n2  Self-Adhesive Address Labels for Typewriters b...   14.6200         2   \n3      Bretford CR4500 Series Slim Rectangular Table  957.5775         5   \n4                     Eldon Fold 'N Roll Cart System   22.3680         2   \n\n   Discount    Profit  \n0      0.00   41.9136  \n1      0.00  219.5820  \n2      0.00    6.8714  \n3      0.45 -383.0310  \n4      0.20    2.5164  \n\n[5 rows x 21 columns]",
      "text/html": "<div>\n<style scoped>\n    .dataframe tbody tr th:only-of-type {\n        vertical-align: middle;\n    }\n\n    .dataframe tbody tr th {\n        vertical-align: top;\n    }\n\n    .dataframe thead th {\n        text-align: right;\n    }\n</style>\n<table border=\"1\" class=\"dataframe\">\n  <thead>\n    <tr style=\"text-align: right;\">\n      <th></th>\n      <th>Row ID</th>\n      <th>Order ID</th>\n      <th>Order Date</th>\n      <th>Ship Date</th>\n      <th>Ship Mode</th>\n      <th>Customer ID</th>\n      <th>Customer Name</th>\n      <th>Segment</th>\n      <th>Country</th>\n      <th>City</th>\n      <th>...</th>\n      <th>Postal Code</th>\n      <th>Region</th>\n      <th>Product ID</th>\n      <th>Category</th>\n      <th>Sub-Category</th>\n      <th>Product Name</th>\n      <th>Sales</th>\n      <th>Quantity</th>\n      <th>Discount</th>\n      <th>Profit</th>\n    </tr>\n  </thead>\n  <tbody>\n    <tr>\n      <th>0</th>\n      <td>1</td>\n      <td>CA-2016-152156</td>\n      <td>2016-11-08</td>\n      <td>2016-11-11</td>\n      <td>Second Class</td>\n      <td>CG-12520</td>\n      <td>Claire Gute</td>\n      <td>Consumer</td>\n      <td>United States</td>\n      <td>Henderson</td>\n      <td>...</td>\n      <td>42420</td>\n      <td>South</td>\n      <td>FUR-BO-10001798</td>\n      <td>Furniture</td>\n      <td>Bookcases</td>\n      <td>Bush Somerset Collection Bookcase</td>\n      <td>261.9600</td>\n      <td>2</td>\n      <td>0.00</td>\n      <td>41.9136</td>\n    </tr>\n    <tr>\n      <th>1</th>\n      <td>2</td>\n      <td>CA-2016-152156</td>\n      <td>2016-11-08</td>\n      <td>2016-11-11</td>\n      <td>Second Class</td>\n      <td>CG-12520</td>\n      <td>Claire Gute</td>\n      <td>Consumer</td>\n      <td>United States</td>\n      <td>Henderson</td>\n      <td>...</td>\n      <td>42420</td>\n      <td>South</td>\n      <td>FUR-CH-10000454</td>\n      <td>Furniture</td>\n      <td>Chairs</td>\n      <td>Hon Deluxe Fabric Upholstered Stacking Chairs,...</td>\n      <td>731.9400</td>\n      <td>3</td>\n      <td>0.00</td>\n      <td>219.5820</td>\n    </tr>\n    <tr>\n      <th>2</th>\n      <td>3</td>\n      <td>CA-2016-138688</td>\n      <td>2016-06-12</td>\n      <td>2016-06-16</td>\n      <td>Second Class</td>\n      <td>DV-13045</td>\n      <td>Darrin Van Huff</td>\n      <td>Corporate</td>\n      <td>United States</td>\n      <td>Los Angeles</td>\n      <td>...</td>\n      <td>90036</td>\n      <td>West</td>\n      <td>OFF-LA-10000240</td>\n      <td>Office Supplies</td>\n      <td>Labels</td>\n      <td>Self-Adhesive Address Labels for Typewriters b...</td>\n      <td>14.6200</td>\n      <td>2</td>\n      <td>0.00</td>\n      <td>6.8714</td>\n    </tr>\n    <tr>\n      <th>3</th>\n      <td>4</td>\n      <td>US-2015-108966</td>\n      <td>2015-10-11</td>\n      <td>2015-10-18</td>\n      <td>Standard Class</td>\n      <td>SO-20335</td>\n      <td>Sean O'Donnell</td>\n      <td>Consumer</td>\n      <td>United States</td>\n      <td>Fort Lauderdale</td>\n      <td>...</td>\n      <td>33311</td>\n      <td>South</td>\n      <td>FUR-TA-10000577</td>\n      <td>Furniture</td>\n      <td>Tables</td>\n      <td>Bretford CR4500 Series Slim Rectangular Table</td>\n      <td>957.5775</td>\n      <td>5</td>\n      <td>0.45</td>\n      <td>-383.0310</td>\n    </tr>\n    <tr>\n      <th>4</th>\n      <td>5</td>\n      <td>US-2015-108966</td>\n      <td>2015-10-11</td>\n      <td>2015-10-18</td>\n      <td>Standard Class</td>\n      <td>SO-20335</td>\n      <td>Sean O'Donnell</td>\n      <td>Consumer</td>\n      <td>United States</td>\n      <td>Fort Lauderdale</td>\n      <td>...</td>\n      <td>33311</td>\n      <td>South</td>\n      <td>OFF-ST-10000760</td>\n      <td>Office Supplies</td>\n      <td>Storage</td>\n      <td>Eldon Fold 'N Roll Cart System</td>\n      <td>22.3680</td>\n      <td>2</td>\n      <td>0.20</td>\n      <td>2.5164</td>\n    </tr>\n  </tbody>\n</table>\n<p>5 rows × 21 columns</p>\n</div>"
     },
     "execution_count": 5,
     "metadata": {},
     "output_type": "execute_result"
    }
   ],
   "source": [
    "# Preview first 5 rows of data set\n",
    "df.head() # defaults to 5"
   ],
   "metadata": {
    "collapsed": false,
    "ExecuteTime": {
     "end_time": "2023-07-16T19:08:50.334106100Z",
     "start_time": "2023-07-16T19:08:50.025258800Z"
    }
   }
  },
  {
   "cell_type": "code",
   "execution_count": 4,
   "outputs": [
    {
     "data": {
      "text/plain": "      Row ID        Order ID Order Date  Ship Date       Ship Mode  \\\n9989    9990  CA-2014-110422 2014-01-21 2014-01-23    Second Class   \n9990    9991  CA-2017-121258 2017-02-26 2017-03-03  Standard Class   \n9991    9992  CA-2017-121258 2017-02-26 2017-03-03  Standard Class   \n9992    9993  CA-2017-121258 2017-02-26 2017-03-03  Standard Class   \n9993    9994  CA-2017-119914 2017-05-04 2017-05-09    Second Class   \n\n     Customer ID     Customer Name   Segment        Country         City  ...  \\\n9989    TB-21400  Tom Boeckenhauer  Consumer  United States        Miami  ...   \n9990    DB-13060       Dave Brooks  Consumer  United States   Costa Mesa  ...   \n9991    DB-13060       Dave Brooks  Consumer  United States   Costa Mesa  ...   \n9992    DB-13060       Dave Brooks  Consumer  United States   Costa Mesa  ...   \n9993    CC-12220      Chris Cortes  Consumer  United States  Westminster  ...   \n\n     Postal Code  Region       Product ID         Category Sub-Category  \\\n9989       33180   South  FUR-FU-10001889        Furniture  Furnishings   \n9990       92627    West  FUR-FU-10000747        Furniture  Furnishings   \n9991       92627    West  TEC-PH-10003645       Technology       Phones   \n9992       92627    West  OFF-PA-10004041  Office Supplies        Paper   \n9993       92683    West  OFF-AP-10002684  Office Supplies   Appliances   \n\n                                           Product Name    Sales  Quantity  \\\n9989                             Ultra Door Pull Handle   25.248         3   \n9990  Tenex B1-RE Series Chair Mats for Low Pile Car...   91.960         2   \n9991                              Aastra 57i VoIP phone  258.576         2   \n9992  It's Hot Message Books with Stickers, 2 3/4\" x 5\"   29.600         4   \n9993  Acco 7-Outlet Masterpiece Power Center, Wihtou...  243.160         2   \n\n      Discount   Profit  \n9989       0.2   4.1028  \n9990       0.0  15.6332  \n9991       0.2  19.3932  \n9992       0.0  13.3200  \n9993       0.0  72.9480  \n\n[5 rows x 21 columns]",
      "text/html": "<div>\n<style scoped>\n    .dataframe tbody tr th:only-of-type {\n        vertical-align: middle;\n    }\n\n    .dataframe tbody tr th {\n        vertical-align: top;\n    }\n\n    .dataframe thead th {\n        text-align: right;\n    }\n</style>\n<table border=\"1\" class=\"dataframe\">\n  <thead>\n    <tr style=\"text-align: right;\">\n      <th></th>\n      <th>Row ID</th>\n      <th>Order ID</th>\n      <th>Order Date</th>\n      <th>Ship Date</th>\n      <th>Ship Mode</th>\n      <th>Customer ID</th>\n      <th>Customer Name</th>\n      <th>Segment</th>\n      <th>Country</th>\n      <th>City</th>\n      <th>...</th>\n      <th>Postal Code</th>\n      <th>Region</th>\n      <th>Product ID</th>\n      <th>Category</th>\n      <th>Sub-Category</th>\n      <th>Product Name</th>\n      <th>Sales</th>\n      <th>Quantity</th>\n      <th>Discount</th>\n      <th>Profit</th>\n    </tr>\n  </thead>\n  <tbody>\n    <tr>\n      <th>9989</th>\n      <td>9990</td>\n      <td>CA-2014-110422</td>\n      <td>2014-01-21</td>\n      <td>2014-01-23</td>\n      <td>Second Class</td>\n      <td>TB-21400</td>\n      <td>Tom Boeckenhauer</td>\n      <td>Consumer</td>\n      <td>United States</td>\n      <td>Miami</td>\n      <td>...</td>\n      <td>33180</td>\n      <td>South</td>\n      <td>FUR-FU-10001889</td>\n      <td>Furniture</td>\n      <td>Furnishings</td>\n      <td>Ultra Door Pull Handle</td>\n      <td>25.248</td>\n      <td>3</td>\n      <td>0.2</td>\n      <td>4.1028</td>\n    </tr>\n    <tr>\n      <th>9990</th>\n      <td>9991</td>\n      <td>CA-2017-121258</td>\n      <td>2017-02-26</td>\n      <td>2017-03-03</td>\n      <td>Standard Class</td>\n      <td>DB-13060</td>\n      <td>Dave Brooks</td>\n      <td>Consumer</td>\n      <td>United States</td>\n      <td>Costa Mesa</td>\n      <td>...</td>\n      <td>92627</td>\n      <td>West</td>\n      <td>FUR-FU-10000747</td>\n      <td>Furniture</td>\n      <td>Furnishings</td>\n      <td>Tenex B1-RE Series Chair Mats for Low Pile Car...</td>\n      <td>91.960</td>\n      <td>2</td>\n      <td>0.0</td>\n      <td>15.6332</td>\n    </tr>\n    <tr>\n      <th>9991</th>\n      <td>9992</td>\n      <td>CA-2017-121258</td>\n      <td>2017-02-26</td>\n      <td>2017-03-03</td>\n      <td>Standard Class</td>\n      <td>DB-13060</td>\n      <td>Dave Brooks</td>\n      <td>Consumer</td>\n      <td>United States</td>\n      <td>Costa Mesa</td>\n      <td>...</td>\n      <td>92627</td>\n      <td>West</td>\n      <td>TEC-PH-10003645</td>\n      <td>Technology</td>\n      <td>Phones</td>\n      <td>Aastra 57i VoIP phone</td>\n      <td>258.576</td>\n      <td>2</td>\n      <td>0.2</td>\n      <td>19.3932</td>\n    </tr>\n    <tr>\n      <th>9992</th>\n      <td>9993</td>\n      <td>CA-2017-121258</td>\n      <td>2017-02-26</td>\n      <td>2017-03-03</td>\n      <td>Standard Class</td>\n      <td>DB-13060</td>\n      <td>Dave Brooks</td>\n      <td>Consumer</td>\n      <td>United States</td>\n      <td>Costa Mesa</td>\n      <td>...</td>\n      <td>92627</td>\n      <td>West</td>\n      <td>OFF-PA-10004041</td>\n      <td>Office Supplies</td>\n      <td>Paper</td>\n      <td>It's Hot Message Books with Stickers, 2 3/4\" x 5\"</td>\n      <td>29.600</td>\n      <td>4</td>\n      <td>0.0</td>\n      <td>13.3200</td>\n    </tr>\n    <tr>\n      <th>9993</th>\n      <td>9994</td>\n      <td>CA-2017-119914</td>\n      <td>2017-05-04</td>\n      <td>2017-05-09</td>\n      <td>Second Class</td>\n      <td>CC-12220</td>\n      <td>Chris Cortes</td>\n      <td>Consumer</td>\n      <td>United States</td>\n      <td>Westminster</td>\n      <td>...</td>\n      <td>92683</td>\n      <td>West</td>\n      <td>OFF-AP-10002684</td>\n      <td>Office Supplies</td>\n      <td>Appliances</td>\n      <td>Acco 7-Outlet Masterpiece Power Center, Wihtou...</td>\n      <td>243.160</td>\n      <td>2</td>\n      <td>0.0</td>\n      <td>72.9480</td>\n    </tr>\n  </tbody>\n</table>\n<p>5 rows × 21 columns</p>\n</div>"
     },
     "execution_count": 4,
     "metadata": {},
     "output_type": "execute_result"
    }
   ],
   "source": [
    "# Preview last 5 rows of data set\n",
    "df.tail() # defaults to 5"
   ],
   "metadata": {
    "collapsed": false,
    "ExecuteTime": {
     "end_time": "2023-07-16T19:08:27.471175Z",
     "start_time": "2023-07-16T19:08:27.101114500Z"
    }
   }
  },
  {
   "cell_type": "code",
   "execution_count": 6,
   "outputs": [
    {
     "data": {
      "text/plain": "   Row ID        Order ID Order Date  Ship Date       Ship Mode Customer ID  \\\n0       1  CA-2016-152156 2016-11-08 2016-11-11    Second Class    CG-12520   \n1       2  CA-2016-152156 2016-11-08 2016-11-11    Second Class    CG-12520   \n2       3  CA-2016-138688 2016-06-12 2016-06-16    Second Class    DV-13045   \n3       4  US-2015-108966 2015-10-11 2015-10-18  Standard Class    SO-20335   \n4       5  US-2015-108966 2015-10-11 2015-10-18  Standard Class    SO-20335   \n5       6  CA-2014-115812 2014-06-09 2014-06-14  Standard Class    BH-11710   \n6       7  CA-2014-115812 2014-06-09 2014-06-14  Standard Class    BH-11710   \n7       8  CA-2014-115812 2014-06-09 2014-06-14  Standard Class    BH-11710   \n\n     Customer Name    Segment        Country             City  ...  \\\n0      Claire Gute   Consumer  United States        Henderson  ...   \n1      Claire Gute   Consumer  United States        Henderson  ...   \n2  Darrin Van Huff  Corporate  United States      Los Angeles  ...   \n3   Sean O'Donnell   Consumer  United States  Fort Lauderdale  ...   \n4   Sean O'Donnell   Consumer  United States  Fort Lauderdale  ...   \n5  Brosina Hoffman   Consumer  United States      Los Angeles  ...   \n6  Brosina Hoffman   Consumer  United States      Los Angeles  ...   \n7  Brosina Hoffman   Consumer  United States      Los Angeles  ...   \n\n  Postal Code  Region       Product ID         Category Sub-Category  \\\n0       42420   South  FUR-BO-10001798        Furniture    Bookcases   \n1       42420   South  FUR-CH-10000454        Furniture       Chairs   \n2       90036    West  OFF-LA-10000240  Office Supplies       Labels   \n3       33311   South  FUR-TA-10000577        Furniture       Tables   \n4       33311   South  OFF-ST-10000760  Office Supplies      Storage   \n5       90032    West  FUR-FU-10001487        Furniture  Furnishings   \n6       90032    West  OFF-AR-10002833  Office Supplies          Art   \n7       90032    West  TEC-PH-10002275       Technology       Phones   \n\n                                        Product Name     Sales  Quantity  \\\n0                  Bush Somerset Collection Bookcase  261.9600         2   \n1  Hon Deluxe Fabric Upholstered Stacking Chairs,...  731.9400         3   \n2  Self-Adhesive Address Labels for Typewriters b...   14.6200         2   \n3      Bretford CR4500 Series Slim Rectangular Table  957.5775         5   \n4                     Eldon Fold 'N Roll Cart System   22.3680         2   \n5  Eldon Expressions Wood and Plastic Desk Access...   48.8600         7   \n6                                         Newell 322    7.2800         4   \n7                     Mitel 5320 IP Phone VoIP phone  907.1520         6   \n\n   Discount    Profit  \n0      0.00   41.9136  \n1      0.00  219.5820  \n2      0.00    6.8714  \n3      0.45 -383.0310  \n4      0.20    2.5164  \n5      0.00   14.1694  \n6      0.00    1.9656  \n7      0.20   90.7152  \n\n[8 rows x 21 columns]",
      "text/html": "<div>\n<style scoped>\n    .dataframe tbody tr th:only-of-type {\n        vertical-align: middle;\n    }\n\n    .dataframe tbody tr th {\n        vertical-align: top;\n    }\n\n    .dataframe thead th {\n        text-align: right;\n    }\n</style>\n<table border=\"1\" class=\"dataframe\">\n  <thead>\n    <tr style=\"text-align: right;\">\n      <th></th>\n      <th>Row ID</th>\n      <th>Order ID</th>\n      <th>Order Date</th>\n      <th>Ship Date</th>\n      <th>Ship Mode</th>\n      <th>Customer ID</th>\n      <th>Customer Name</th>\n      <th>Segment</th>\n      <th>Country</th>\n      <th>City</th>\n      <th>...</th>\n      <th>Postal Code</th>\n      <th>Region</th>\n      <th>Product ID</th>\n      <th>Category</th>\n      <th>Sub-Category</th>\n      <th>Product Name</th>\n      <th>Sales</th>\n      <th>Quantity</th>\n      <th>Discount</th>\n      <th>Profit</th>\n    </tr>\n  </thead>\n  <tbody>\n    <tr>\n      <th>0</th>\n      <td>1</td>\n      <td>CA-2016-152156</td>\n      <td>2016-11-08</td>\n      <td>2016-11-11</td>\n      <td>Second Class</td>\n      <td>CG-12520</td>\n      <td>Claire Gute</td>\n      <td>Consumer</td>\n      <td>United States</td>\n      <td>Henderson</td>\n      <td>...</td>\n      <td>42420</td>\n      <td>South</td>\n      <td>FUR-BO-10001798</td>\n      <td>Furniture</td>\n      <td>Bookcases</td>\n      <td>Bush Somerset Collection Bookcase</td>\n      <td>261.9600</td>\n      <td>2</td>\n      <td>0.00</td>\n      <td>41.9136</td>\n    </tr>\n    <tr>\n      <th>1</th>\n      <td>2</td>\n      <td>CA-2016-152156</td>\n      <td>2016-11-08</td>\n      <td>2016-11-11</td>\n      <td>Second Class</td>\n      <td>CG-12520</td>\n      <td>Claire Gute</td>\n      <td>Consumer</td>\n      <td>United States</td>\n      <td>Henderson</td>\n      <td>...</td>\n      <td>42420</td>\n      <td>South</td>\n      <td>FUR-CH-10000454</td>\n      <td>Furniture</td>\n      <td>Chairs</td>\n      <td>Hon Deluxe Fabric Upholstered Stacking Chairs,...</td>\n      <td>731.9400</td>\n      <td>3</td>\n      <td>0.00</td>\n      <td>219.5820</td>\n    </tr>\n    <tr>\n      <th>2</th>\n      <td>3</td>\n      <td>CA-2016-138688</td>\n      <td>2016-06-12</td>\n      <td>2016-06-16</td>\n      <td>Second Class</td>\n      <td>DV-13045</td>\n      <td>Darrin Van Huff</td>\n      <td>Corporate</td>\n      <td>United States</td>\n      <td>Los Angeles</td>\n      <td>...</td>\n      <td>90036</td>\n      <td>West</td>\n      <td>OFF-LA-10000240</td>\n      <td>Office Supplies</td>\n      <td>Labels</td>\n      <td>Self-Adhesive Address Labels for Typewriters b...</td>\n      <td>14.6200</td>\n      <td>2</td>\n      <td>0.00</td>\n      <td>6.8714</td>\n    </tr>\n    <tr>\n      <th>3</th>\n      <td>4</td>\n      <td>US-2015-108966</td>\n      <td>2015-10-11</td>\n      <td>2015-10-18</td>\n      <td>Standard Class</td>\n      <td>SO-20335</td>\n      <td>Sean O'Donnell</td>\n      <td>Consumer</td>\n      <td>United States</td>\n      <td>Fort Lauderdale</td>\n      <td>...</td>\n      <td>33311</td>\n      <td>South</td>\n      <td>FUR-TA-10000577</td>\n      <td>Furniture</td>\n      <td>Tables</td>\n      <td>Bretford CR4500 Series Slim Rectangular Table</td>\n      <td>957.5775</td>\n      <td>5</td>\n      <td>0.45</td>\n      <td>-383.0310</td>\n    </tr>\n    <tr>\n      <th>4</th>\n      <td>5</td>\n      <td>US-2015-108966</td>\n      <td>2015-10-11</td>\n      <td>2015-10-18</td>\n      <td>Standard Class</td>\n      <td>SO-20335</td>\n      <td>Sean O'Donnell</td>\n      <td>Consumer</td>\n      <td>United States</td>\n      <td>Fort Lauderdale</td>\n      <td>...</td>\n      <td>33311</td>\n      <td>South</td>\n      <td>OFF-ST-10000760</td>\n      <td>Office Supplies</td>\n      <td>Storage</td>\n      <td>Eldon Fold 'N Roll Cart System</td>\n      <td>22.3680</td>\n      <td>2</td>\n      <td>0.20</td>\n      <td>2.5164</td>\n    </tr>\n    <tr>\n      <th>5</th>\n      <td>6</td>\n      <td>CA-2014-115812</td>\n      <td>2014-06-09</td>\n      <td>2014-06-14</td>\n      <td>Standard Class</td>\n      <td>BH-11710</td>\n      <td>Brosina Hoffman</td>\n      <td>Consumer</td>\n      <td>United States</td>\n      <td>Los Angeles</td>\n      <td>...</td>\n      <td>90032</td>\n      <td>West</td>\n      <td>FUR-FU-10001487</td>\n      <td>Furniture</td>\n      <td>Furnishings</td>\n      <td>Eldon Expressions Wood and Plastic Desk Access...</td>\n      <td>48.8600</td>\n      <td>7</td>\n      <td>0.00</td>\n      <td>14.1694</td>\n    </tr>\n    <tr>\n      <th>6</th>\n      <td>7</td>\n      <td>CA-2014-115812</td>\n      <td>2014-06-09</td>\n      <td>2014-06-14</td>\n      <td>Standard Class</td>\n      <td>BH-11710</td>\n      <td>Brosina Hoffman</td>\n      <td>Consumer</td>\n      <td>United States</td>\n      <td>Los Angeles</td>\n      <td>...</td>\n      <td>90032</td>\n      <td>West</td>\n      <td>OFF-AR-10002833</td>\n      <td>Office Supplies</td>\n      <td>Art</td>\n      <td>Newell 322</td>\n      <td>7.2800</td>\n      <td>4</td>\n      <td>0.00</td>\n      <td>1.9656</td>\n    </tr>\n    <tr>\n      <th>7</th>\n      <td>8</td>\n      <td>CA-2014-115812</td>\n      <td>2014-06-09</td>\n      <td>2014-06-14</td>\n      <td>Standard Class</td>\n      <td>BH-11710</td>\n      <td>Brosina Hoffman</td>\n      <td>Consumer</td>\n      <td>United States</td>\n      <td>Los Angeles</td>\n      <td>...</td>\n      <td>90032</td>\n      <td>West</td>\n      <td>TEC-PH-10002275</td>\n      <td>Technology</td>\n      <td>Phones</td>\n      <td>Mitel 5320 IP Phone VoIP phone</td>\n      <td>907.1520</td>\n      <td>6</td>\n      <td>0.20</td>\n      <td>90.7152</td>\n    </tr>\n  </tbody>\n</table>\n<p>8 rows × 21 columns</p>\n</div>"
     },
     "execution_count": 6,
     "metadata": {},
     "output_type": "execute_result"
    }
   ],
   "source": [
    "# Show more rows in head() or tail()\n",
    "df.head(8) # parameter to show n rows"
   ],
   "metadata": {
    "collapsed": false,
    "ExecuteTime": {
     "end_time": "2023-07-16T19:10:50.274936600Z",
     "start_time": "2023-07-16T19:10:49.860066300Z"
    }
   }
  },
  {
   "cell_type": "markdown",
   "source": [
    "You can easily tell that there is a mix of categorical, geographical and numerical variables.\n",
    "Each row represents an order of an item and the corresponding quantity, sales, discount and profit. There is also the mode of shipment, customer segment and geographical aspects.\n",
    "Next, we will use the **df.shape, df.info() and df.describe()** to get more information."
   ],
   "metadata": {
    "collapsed": false
   }
  },
  {
   "cell_type": "code",
   "execution_count": 7,
   "outputs": [
    {
     "data": {
      "text/plain": "(9994, 21)"
     },
     "execution_count": 7,
     "metadata": {},
     "output_type": "execute_result"
    }
   ],
   "source": [
    "# Shape of data set\n",
    "df.shape # This is an attribute not a method"
   ],
   "metadata": {
    "collapsed": false,
    "ExecuteTime": {
     "end_time": "2023-07-16T19:12:18.335047400Z",
     "start_time": "2023-07-16T19:12:18.072913800Z"
    }
   }
  },
  {
   "cell_type": "code",
   "execution_count": 8,
   "outputs": [
    {
     "ename": "TypeError",
     "evalue": "'tuple' object is not callable",
     "output_type": "error",
     "traceback": [
      "\u001B[1;31m---------------------------------------------------------------------------\u001B[0m",
      "\u001B[1;31mTypeError\u001B[0m                                 Traceback (most recent call last)",
      "\u001B[1;32m~\\AppData\\Local\\Temp\\ipykernel_10788\\2739220193.py\u001B[0m in \u001B[0;36m<module>\u001B[1;34m\u001B[0m\n\u001B[1;32m----> 1\u001B[1;33m \u001B[0mdf\u001B[0m\u001B[1;33m.\u001B[0m\u001B[0mshape\u001B[0m\u001B[1;33m(\u001B[0m\u001B[1;33m)\u001B[0m\u001B[1;33m\u001B[0m\u001B[1;33m\u001B[0m\u001B[0m\n\u001B[0m",
      "\u001B[1;31mTypeError\u001B[0m: 'tuple' object is not callable"
     ]
    }
   ],
   "source": [
    "df.shape() # This is an attribute not a method, hence error here"
   ],
   "metadata": {
    "collapsed": false,
    "ExecuteTime": {
     "end_time": "2023-07-16T19:12:35.491234700Z",
     "start_time": "2023-07-16T19:12:33.288433100Z"
    }
   }
  },
  {
   "cell_type": "code",
   "execution_count": 9,
   "outputs": [
    {
     "name": "stdout",
     "output_type": "stream",
     "text": [
      "<class 'pandas.core.frame.DataFrame'>\n",
      "RangeIndex: 9994 entries, 0 to 9993\n",
      "Data columns (total 21 columns):\n",
      " #   Column         Non-Null Count  Dtype         \n",
      "---  ------         --------------  -----         \n",
      " 0   Row ID         9994 non-null   int64         \n",
      " 1   Order ID       9994 non-null   object        \n",
      " 2   Order Date     9994 non-null   datetime64[ns]\n",
      " 3   Ship Date      9994 non-null   datetime64[ns]\n",
      " 4   Ship Mode      9994 non-null   object        \n",
      " 5   Customer ID    9994 non-null   object        \n",
      " 6   Customer Name  9994 non-null   object        \n",
      " 7   Segment        9994 non-null   object        \n",
      " 8   Country        9994 non-null   object        \n",
      " 9   City           9994 non-null   object        \n",
      " 10  State          9994 non-null   object        \n",
      " 11  Postal Code    9994 non-null   int64         \n",
      " 12  Region         9994 non-null   object        \n",
      " 13  Product ID     9994 non-null   object        \n",
      " 14  Category       9994 non-null   object        \n",
      " 15  Sub-Category   9994 non-null   object        \n",
      " 16  Product Name   9994 non-null   object        \n",
      " 17  Sales          9994 non-null   float64       \n",
      " 18  Quantity       9994 non-null   int64         \n",
      " 19  Discount       9994 non-null   float64       \n",
      " 20  Profit         9994 non-null   float64       \n",
      "dtypes: datetime64[ns](2), float64(3), int64(3), object(13)\n",
      "memory usage: 1.6+ MB\n"
     ]
    }
   ],
   "source": [
    "# Summarised information of data set\n",
    "df.info() # this is kind of a meta function"
   ],
   "metadata": {
    "collapsed": false,
    "ExecuteTime": {
     "end_time": "2023-07-16T19:13:37.999237700Z",
     "start_time": "2023-07-16T19:13:37.626182700Z"
    }
   }
  },
  {
   "cell_type": "markdown",
   "source": [
    "There are 9,994 rows (***excluding*** *header*) and 13 columns. Data type is correct and matches the corresponding values.\n",
    "\n",
    "**df.describe()** generates descriptive statistics. Descriptive statistics include those that summarize the central tendency, dispersion and shape of a dataset’s distribution, excluding NaN values. Analyzes both numeric and object series, as well as DataFrame column sets of mixed data types. The output will vary depending on what is provided.\n",
    "\n",
    "We will talk a bit more about this later."
   ],
   "metadata": {
    "collapsed": false
   }
  },
  {
   "cell_type": "code",
   "execution_count": 11,
   "outputs": [
    {
     "data": {
      "text/plain": "            Row ID   Postal Code         Sales     Quantity     Discount  \\\ncount  9994.000000   9994.000000   9994.000000  9994.000000  9994.000000   \nmean   4997.500000  55190.379428    229.858001     3.789574     0.156203   \nstd    2885.163629  32063.693350    623.245101     2.225110     0.206452   \nmin       1.000000   1040.000000      0.444000     1.000000     0.000000   \n25%    2499.250000  23223.000000     17.280000     2.000000     0.000000   \n50%    4997.500000  56430.500000     54.490000     3.000000     0.200000   \n75%    7495.750000  90008.000000    209.940000     5.000000     0.200000   \nmax    9994.000000  99301.000000  22638.480000    14.000000     0.800000   \n\n            Profit  \ncount  9994.000000  \nmean     28.656896  \nstd     234.260108  \nmin   -6599.978000  \n25%       1.728750  \n50%       8.666500  \n75%      29.364000  \nmax    8399.976000  ",
      "text/html": "<div>\n<style scoped>\n    .dataframe tbody tr th:only-of-type {\n        vertical-align: middle;\n    }\n\n    .dataframe tbody tr th {\n        vertical-align: top;\n    }\n\n    .dataframe thead th {\n        text-align: right;\n    }\n</style>\n<table border=\"1\" class=\"dataframe\">\n  <thead>\n    <tr style=\"text-align: right;\">\n      <th></th>\n      <th>Row ID</th>\n      <th>Postal Code</th>\n      <th>Sales</th>\n      <th>Quantity</th>\n      <th>Discount</th>\n      <th>Profit</th>\n    </tr>\n  </thead>\n  <tbody>\n    <tr>\n      <th>count</th>\n      <td>9994.000000</td>\n      <td>9994.000000</td>\n      <td>9994.000000</td>\n      <td>9994.000000</td>\n      <td>9994.000000</td>\n      <td>9994.000000</td>\n    </tr>\n    <tr>\n      <th>mean</th>\n      <td>4997.500000</td>\n      <td>55190.379428</td>\n      <td>229.858001</td>\n      <td>3.789574</td>\n      <td>0.156203</td>\n      <td>28.656896</td>\n    </tr>\n    <tr>\n      <th>std</th>\n      <td>2885.163629</td>\n      <td>32063.693350</td>\n      <td>623.245101</td>\n      <td>2.225110</td>\n      <td>0.206452</td>\n      <td>234.260108</td>\n    </tr>\n    <tr>\n      <th>min</th>\n      <td>1.000000</td>\n      <td>1040.000000</td>\n      <td>0.444000</td>\n      <td>1.000000</td>\n      <td>0.000000</td>\n      <td>-6599.978000</td>\n    </tr>\n    <tr>\n      <th>25%</th>\n      <td>2499.250000</td>\n      <td>23223.000000</td>\n      <td>17.280000</td>\n      <td>2.000000</td>\n      <td>0.000000</td>\n      <td>1.728750</td>\n    </tr>\n    <tr>\n      <th>50%</th>\n      <td>4997.500000</td>\n      <td>56430.500000</td>\n      <td>54.490000</td>\n      <td>3.000000</td>\n      <td>0.200000</td>\n      <td>8.666500</td>\n    </tr>\n    <tr>\n      <th>75%</th>\n      <td>7495.750000</td>\n      <td>90008.000000</td>\n      <td>209.940000</td>\n      <td>5.000000</td>\n      <td>0.200000</td>\n      <td>29.364000</td>\n    </tr>\n    <tr>\n      <th>max</th>\n      <td>9994.000000</td>\n      <td>99301.000000</td>\n      <td>22638.480000</td>\n      <td>14.000000</td>\n      <td>0.800000</td>\n      <td>8399.976000</td>\n    </tr>\n  </tbody>\n</table>\n</div>"
     },
     "execution_count": 11,
     "metadata": {},
     "output_type": "execute_result"
    }
   ],
   "source": [
    "# Calculates some statistical data like percentile, mean and std of the numerical values \n",
    "df.describe()"
   ],
   "metadata": {
    "collapsed": false,
    "ExecuteTime": {
     "end_time": "2023-07-16T19:20:32.256546Z",
     "start_time": "2023-07-16T19:20:32.088560600Z"
    }
   }
  },
  {
   "cell_type": "markdown",
   "source": [
    "### Data Cleaning\n",
    "Before we start with the analysis, we must first clean the data or “scrub the dirt.”\n",
    "For this analysis, we will look at the more common issues such as missing and duplicate data.\n",
    "<br/>\n",
    "#### Handling Missing Values\n",
    "Here, we will find out whether there is Null value."
   ],
   "metadata": {
    "collapsed": false
   }
  },
  {
   "cell_type": "code",
   "execution_count": 13,
   "outputs": [
    {
     "data": {
      "text/plain": "Row ID           0\nOrder ID         0\nOrder Date       0\nShip Date        0\nShip Mode        0\nCustomer ID      0\nCustomer Name    0\nSegment          0\nCountry          0\nCity             0\nState            0\nPostal Code      0\nRegion           0\nProduct ID       0\nCategory         0\nSub-Category     0\nProduct Name     0\nSales            0\nQuantity         0\nDiscount         0\nProfit           0\ndtype: int64"
     },
     "execution_count": 13,
     "metadata": {},
     "output_type": "execute_result"
    }
   ],
   "source": [
    "# Find the number of null values for all columns\n",
    "df.isnull().sum()"
   ],
   "metadata": {
    "collapsed": false,
    "ExecuteTime": {
     "end_time": "2023-07-16T19:24:14.175253200Z",
     "start_time": "2023-07-16T19:24:14.044106400Z"
    }
   }
  },
  {
   "cell_type": "markdown",
   "source": [
    "The result shows that the data set does not have any null value.\n",
    "<br/>\n",
    "### Duplicate Data\n",
    "Then, we will find out whether there is duplicate data."
   ],
   "metadata": {
    "collapsed": false
   }
  },
  {
   "cell_type": "code",
   "execution_count": 15,
   "outputs": [
    {
     "data": {
      "text/plain": "0"
     },
     "execution_count": 15,
     "metadata": {},
     "output_type": "execute_result"
    }
   ],
   "source": [
    "# Find the number of duplicate data\n",
    "df.duplicated().sum()"
   ],
   "metadata": {
    "collapsed": false,
    "ExecuteTime": {
     "end_time": "2023-07-16T19:24:55.601971900Z",
     "start_time": "2023-07-16T19:24:55.432822900Z"
    }
   }
  },
  {
   "cell_type": "markdown",
   "source": [
    "The Result shows that there are **0** duplicated rows. If it had any duplicates, we could have used another function to view the duplicated data."
   ],
   "metadata": {
    "collapsed": false
   }
  },
  {
   "cell_type": "code",
   "execution_count": 16,
   "outputs": [
    {
     "data": {
      "text/plain": "Empty DataFrame\nColumns: [Row ID, Order ID, Order Date, Ship Date, Ship Mode, Customer ID, Customer Name, Segment, Country, City, State, Postal Code, Region, Product ID, Category, Sub-Category, Product Name, Sales, Quantity, Discount, Profit]\nIndex: []\n\n[0 rows x 21 columns]",
      "text/html": "<div>\n<style scoped>\n    .dataframe tbody tr th:only-of-type {\n        vertical-align: middle;\n    }\n\n    .dataframe tbody tr th {\n        vertical-align: top;\n    }\n\n    .dataframe thead th {\n        text-align: right;\n    }\n</style>\n<table border=\"1\" class=\"dataframe\">\n  <thead>\n    <tr style=\"text-align: right;\">\n      <th></th>\n      <th>Row ID</th>\n      <th>Order ID</th>\n      <th>Order Date</th>\n      <th>Ship Date</th>\n      <th>Ship Mode</th>\n      <th>Customer ID</th>\n      <th>Customer Name</th>\n      <th>Segment</th>\n      <th>Country</th>\n      <th>City</th>\n      <th>...</th>\n      <th>Postal Code</th>\n      <th>Region</th>\n      <th>Product ID</th>\n      <th>Category</th>\n      <th>Sub-Category</th>\n      <th>Product Name</th>\n      <th>Sales</th>\n      <th>Quantity</th>\n      <th>Discount</th>\n      <th>Profit</th>\n    </tr>\n  </thead>\n  <tbody>\n  </tbody>\n</table>\n<p>0 rows × 21 columns</p>\n</div>"
     },
     "execution_count": 16,
     "metadata": {},
     "output_type": "execute_result"
    }
   ],
   "source": [
    "# Show the duplicated rows\n",
    "df[df.duplicated(keep = 'last')]"
   ],
   "metadata": {
    "collapsed": false,
    "ExecuteTime": {
     "end_time": "2023-07-16T19:27:28.075686300Z",
     "start_time": "2023-07-16T19:27:27.841434100Z"
    }
   }
  },
  {
   "cell_type": "markdown",
   "source": [
    "We could then run the drop_duplicates() function to drop the duplicated rows."
   ],
   "metadata": {
    "collapsed": false
   }
  },
  {
   "cell_type": "code",
   "execution_count": 17,
   "outputs": [
    {
     "data": {
      "text/plain": "(9994, 21)"
     },
     "execution_count": 17,
     "metadata": {},
     "output_type": "execute_result"
    }
   ],
   "source": [
    "# Drop the duplicated rows\n",
    "df.drop_duplicates(inplace = True)\n",
    "\n",
    "# Find the number of rows and columns\n",
    "df.shape"
   ],
   "metadata": {
    "collapsed": false,
    "ExecuteTime": {
     "end_time": "2023-07-16T19:28:57.346002900Z",
     "start_time": "2023-07-16T19:28:57.033887100Z"
    }
   }
  },
  {
   "cell_type": "markdown",
   "source": [
    "Also, it is a good practice to name dataframes with some context and avoid using a generic name like df. It helps in working with multiple datasets. "
   ],
   "metadata": {
    "collapsed": false
   }
  },
  {
   "cell_type": "code",
   "execution_count": 19,
   "outputs": [],
   "source": [
    "superstore = df"
   ],
   "metadata": {
    "collapsed": false,
    "ExecuteTime": {
     "end_time": "2023-07-16T19:32:58.940777900Z",
     "start_time": "2023-07-16T19:32:58.792189200Z"
    }
   }
  },
  {
   "cell_type": "markdown",
   "source": [
    "### Calculated Field\n",
    "Now, we will create a calculated field for Profit Margin. The formula is (Profit / Sales) * 100."
   ],
   "metadata": {
    "collapsed": false
   }
  },
  {
   "cell_type": "code",
   "execution_count": 20,
   "outputs": [
    {
     "data": {
      "text/plain": "      Row ID        Order ID Order Date  Ship Date       Ship Mode  \\\n0          1  CA-2016-152156 2016-11-08 2016-11-11    Second Class   \n1          2  CA-2016-152156 2016-11-08 2016-11-11    Second Class   \n2          3  CA-2016-138688 2016-06-12 2016-06-16    Second Class   \n3          4  US-2015-108966 2015-10-11 2015-10-18  Standard Class   \n4          5  US-2015-108966 2015-10-11 2015-10-18  Standard Class   \n...      ...             ...        ...        ...             ...   \n9989    9990  CA-2014-110422 2014-01-21 2014-01-23    Second Class   \n9990    9991  CA-2017-121258 2017-02-26 2017-03-03  Standard Class   \n9991    9992  CA-2017-121258 2017-02-26 2017-03-03  Standard Class   \n9992    9993  CA-2017-121258 2017-02-26 2017-03-03  Standard Class   \n9993    9994  CA-2017-119914 2017-05-04 2017-05-09    Second Class   \n\n     Customer ID     Customer Name    Segment        Country             City  \\\n0       CG-12520       Claire Gute   Consumer  United States        Henderson   \n1       CG-12520       Claire Gute   Consumer  United States        Henderson   \n2       DV-13045   Darrin Van Huff  Corporate  United States      Los Angeles   \n3       SO-20335    Sean O'Donnell   Consumer  United States  Fort Lauderdale   \n4       SO-20335    Sean O'Donnell   Consumer  United States  Fort Lauderdale   \n...          ...               ...        ...            ...              ...   \n9989    TB-21400  Tom Boeckenhauer   Consumer  United States            Miami   \n9990    DB-13060       Dave Brooks   Consumer  United States       Costa Mesa   \n9991    DB-13060       Dave Brooks   Consumer  United States       Costa Mesa   \n9992    DB-13060       Dave Brooks   Consumer  United States       Costa Mesa   \n9993    CC-12220      Chris Cortes   Consumer  United States      Westminster   \n\n      ... Region       Product ID         Category Sub-Category  \\\n0     ...  South  FUR-BO-10001798        Furniture    Bookcases   \n1     ...  South  FUR-CH-10000454        Furniture       Chairs   \n2     ...   West  OFF-LA-10000240  Office Supplies       Labels   \n3     ...  South  FUR-TA-10000577        Furniture       Tables   \n4     ...  South  OFF-ST-10000760  Office Supplies      Storage   \n...   ...    ...              ...              ...          ...   \n9989  ...  South  FUR-FU-10001889        Furniture  Furnishings   \n9990  ...   West  FUR-FU-10000747        Furniture  Furnishings   \n9991  ...   West  TEC-PH-10003645       Technology       Phones   \n9992  ...   West  OFF-PA-10004041  Office Supplies        Paper   \n9993  ...   West  OFF-AP-10002684  Office Supplies   Appliances   \n\n                                           Product Name     Sales Quantity  \\\n0                     Bush Somerset Collection Bookcase  261.9600        2   \n1     Hon Deluxe Fabric Upholstered Stacking Chairs,...  731.9400        3   \n2     Self-Adhesive Address Labels for Typewriters b...   14.6200        2   \n3         Bretford CR4500 Series Slim Rectangular Table  957.5775        5   \n4                        Eldon Fold 'N Roll Cart System   22.3680        2   \n...                                                 ...       ...      ...   \n9989                             Ultra Door Pull Handle   25.2480        3   \n9990  Tenex B1-RE Series Chair Mats for Low Pile Car...   91.9600        2   \n9991                              Aastra 57i VoIP phone  258.5760        2   \n9992  It's Hot Message Books with Stickers, 2 3/4\" x 5\"   29.6000        4   \n9993  Acco 7-Outlet Masterpiece Power Center, Wihtou...  243.1600        2   \n\n      Discount    Profit  Profit Margin %  \n0         0.00   41.9136            16.00  \n1         0.00  219.5820            30.00  \n2         0.00    6.8714            47.00  \n3         0.45 -383.0310           -40.00  \n4         0.20    2.5164            11.25  \n...        ...       ...              ...  \n9989      0.20    4.1028            16.25  \n9990      0.00   15.6332            17.00  \n9991      0.20   19.3932             7.50  \n9992      0.00   13.3200            45.00  \n9993      0.00   72.9480            30.00  \n\n[9994 rows x 22 columns]",
      "text/html": "<div>\n<style scoped>\n    .dataframe tbody tr th:only-of-type {\n        vertical-align: middle;\n    }\n\n    .dataframe tbody tr th {\n        vertical-align: top;\n    }\n\n    .dataframe thead th {\n        text-align: right;\n    }\n</style>\n<table border=\"1\" class=\"dataframe\">\n  <thead>\n    <tr style=\"text-align: right;\">\n      <th></th>\n      <th>Row ID</th>\n      <th>Order ID</th>\n      <th>Order Date</th>\n      <th>Ship Date</th>\n      <th>Ship Mode</th>\n      <th>Customer ID</th>\n      <th>Customer Name</th>\n      <th>Segment</th>\n      <th>Country</th>\n      <th>City</th>\n      <th>...</th>\n      <th>Region</th>\n      <th>Product ID</th>\n      <th>Category</th>\n      <th>Sub-Category</th>\n      <th>Product Name</th>\n      <th>Sales</th>\n      <th>Quantity</th>\n      <th>Discount</th>\n      <th>Profit</th>\n      <th>Profit Margin %</th>\n    </tr>\n  </thead>\n  <tbody>\n    <tr>\n      <th>0</th>\n      <td>1</td>\n      <td>CA-2016-152156</td>\n      <td>2016-11-08</td>\n      <td>2016-11-11</td>\n      <td>Second Class</td>\n      <td>CG-12520</td>\n      <td>Claire Gute</td>\n      <td>Consumer</td>\n      <td>United States</td>\n      <td>Henderson</td>\n      <td>...</td>\n      <td>South</td>\n      <td>FUR-BO-10001798</td>\n      <td>Furniture</td>\n      <td>Bookcases</td>\n      <td>Bush Somerset Collection Bookcase</td>\n      <td>261.9600</td>\n      <td>2</td>\n      <td>0.00</td>\n      <td>41.9136</td>\n      <td>16.00</td>\n    </tr>\n    <tr>\n      <th>1</th>\n      <td>2</td>\n      <td>CA-2016-152156</td>\n      <td>2016-11-08</td>\n      <td>2016-11-11</td>\n      <td>Second Class</td>\n      <td>CG-12520</td>\n      <td>Claire Gute</td>\n      <td>Consumer</td>\n      <td>United States</td>\n      <td>Henderson</td>\n      <td>...</td>\n      <td>South</td>\n      <td>FUR-CH-10000454</td>\n      <td>Furniture</td>\n      <td>Chairs</td>\n      <td>Hon Deluxe Fabric Upholstered Stacking Chairs,...</td>\n      <td>731.9400</td>\n      <td>3</td>\n      <td>0.00</td>\n      <td>219.5820</td>\n      <td>30.00</td>\n    </tr>\n    <tr>\n      <th>2</th>\n      <td>3</td>\n      <td>CA-2016-138688</td>\n      <td>2016-06-12</td>\n      <td>2016-06-16</td>\n      <td>Second Class</td>\n      <td>DV-13045</td>\n      <td>Darrin Van Huff</td>\n      <td>Corporate</td>\n      <td>United States</td>\n      <td>Los Angeles</td>\n      <td>...</td>\n      <td>West</td>\n      <td>OFF-LA-10000240</td>\n      <td>Office Supplies</td>\n      <td>Labels</td>\n      <td>Self-Adhesive Address Labels for Typewriters b...</td>\n      <td>14.6200</td>\n      <td>2</td>\n      <td>0.00</td>\n      <td>6.8714</td>\n      <td>47.00</td>\n    </tr>\n    <tr>\n      <th>3</th>\n      <td>4</td>\n      <td>US-2015-108966</td>\n      <td>2015-10-11</td>\n      <td>2015-10-18</td>\n      <td>Standard Class</td>\n      <td>SO-20335</td>\n      <td>Sean O'Donnell</td>\n      <td>Consumer</td>\n      <td>United States</td>\n      <td>Fort Lauderdale</td>\n      <td>...</td>\n      <td>South</td>\n      <td>FUR-TA-10000577</td>\n      <td>Furniture</td>\n      <td>Tables</td>\n      <td>Bretford CR4500 Series Slim Rectangular Table</td>\n      <td>957.5775</td>\n      <td>5</td>\n      <td>0.45</td>\n      <td>-383.0310</td>\n      <td>-40.00</td>\n    </tr>\n    <tr>\n      <th>4</th>\n      <td>5</td>\n      <td>US-2015-108966</td>\n      <td>2015-10-11</td>\n      <td>2015-10-18</td>\n      <td>Standard Class</td>\n      <td>SO-20335</td>\n      <td>Sean O'Donnell</td>\n      <td>Consumer</td>\n      <td>United States</td>\n      <td>Fort Lauderdale</td>\n      <td>...</td>\n      <td>South</td>\n      <td>OFF-ST-10000760</td>\n      <td>Office Supplies</td>\n      <td>Storage</td>\n      <td>Eldon Fold 'N Roll Cart System</td>\n      <td>22.3680</td>\n      <td>2</td>\n      <td>0.20</td>\n      <td>2.5164</td>\n      <td>11.25</td>\n    </tr>\n    <tr>\n      <th>...</th>\n      <td>...</td>\n      <td>...</td>\n      <td>...</td>\n      <td>...</td>\n      <td>...</td>\n      <td>...</td>\n      <td>...</td>\n      <td>...</td>\n      <td>...</td>\n      <td>...</td>\n      <td>...</td>\n      <td>...</td>\n      <td>...</td>\n      <td>...</td>\n      <td>...</td>\n      <td>...</td>\n      <td>...</td>\n      <td>...</td>\n      <td>...</td>\n      <td>...</td>\n      <td>...</td>\n    </tr>\n    <tr>\n      <th>9989</th>\n      <td>9990</td>\n      <td>CA-2014-110422</td>\n      <td>2014-01-21</td>\n      <td>2014-01-23</td>\n      <td>Second Class</td>\n      <td>TB-21400</td>\n      <td>Tom Boeckenhauer</td>\n      <td>Consumer</td>\n      <td>United States</td>\n      <td>Miami</td>\n      <td>...</td>\n      <td>South</td>\n      <td>FUR-FU-10001889</td>\n      <td>Furniture</td>\n      <td>Furnishings</td>\n      <td>Ultra Door Pull Handle</td>\n      <td>25.2480</td>\n      <td>3</td>\n      <td>0.20</td>\n      <td>4.1028</td>\n      <td>16.25</td>\n    </tr>\n    <tr>\n      <th>9990</th>\n      <td>9991</td>\n      <td>CA-2017-121258</td>\n      <td>2017-02-26</td>\n      <td>2017-03-03</td>\n      <td>Standard Class</td>\n      <td>DB-13060</td>\n      <td>Dave Brooks</td>\n      <td>Consumer</td>\n      <td>United States</td>\n      <td>Costa Mesa</td>\n      <td>...</td>\n      <td>West</td>\n      <td>FUR-FU-10000747</td>\n      <td>Furniture</td>\n      <td>Furnishings</td>\n      <td>Tenex B1-RE Series Chair Mats for Low Pile Car...</td>\n      <td>91.9600</td>\n      <td>2</td>\n      <td>0.00</td>\n      <td>15.6332</td>\n      <td>17.00</td>\n    </tr>\n    <tr>\n      <th>9991</th>\n      <td>9992</td>\n      <td>CA-2017-121258</td>\n      <td>2017-02-26</td>\n      <td>2017-03-03</td>\n      <td>Standard Class</td>\n      <td>DB-13060</td>\n      <td>Dave Brooks</td>\n      <td>Consumer</td>\n      <td>United States</td>\n      <td>Costa Mesa</td>\n      <td>...</td>\n      <td>West</td>\n      <td>TEC-PH-10003645</td>\n      <td>Technology</td>\n      <td>Phones</td>\n      <td>Aastra 57i VoIP phone</td>\n      <td>258.5760</td>\n      <td>2</td>\n      <td>0.20</td>\n      <td>19.3932</td>\n      <td>7.50</td>\n    </tr>\n    <tr>\n      <th>9992</th>\n      <td>9993</td>\n      <td>CA-2017-121258</td>\n      <td>2017-02-26</td>\n      <td>2017-03-03</td>\n      <td>Standard Class</td>\n      <td>DB-13060</td>\n      <td>Dave Brooks</td>\n      <td>Consumer</td>\n      <td>United States</td>\n      <td>Costa Mesa</td>\n      <td>...</td>\n      <td>West</td>\n      <td>OFF-PA-10004041</td>\n      <td>Office Supplies</td>\n      <td>Paper</td>\n      <td>It's Hot Message Books with Stickers, 2 3/4\" x 5\"</td>\n      <td>29.6000</td>\n      <td>4</td>\n      <td>0.00</td>\n      <td>13.3200</td>\n      <td>45.00</td>\n    </tr>\n    <tr>\n      <th>9993</th>\n      <td>9994</td>\n      <td>CA-2017-119914</td>\n      <td>2017-05-04</td>\n      <td>2017-05-09</td>\n      <td>Second Class</td>\n      <td>CC-12220</td>\n      <td>Chris Cortes</td>\n      <td>Consumer</td>\n      <td>United States</td>\n      <td>Westminster</td>\n      <td>...</td>\n      <td>West</td>\n      <td>OFF-AP-10002684</td>\n      <td>Office Supplies</td>\n      <td>Appliances</td>\n      <td>Acco 7-Outlet Masterpiece Power Center, Wihtou...</td>\n      <td>243.1600</td>\n      <td>2</td>\n      <td>0.00</td>\n      <td>72.9480</td>\n      <td>30.00</td>\n    </tr>\n  </tbody>\n</table>\n<p>9994 rows × 22 columns</p>\n</div>"
     },
     "execution_count": 20,
     "metadata": {},
     "output_type": "execute_result"
    }
   ],
   "source": [
    "superstore['Profit Margin %'] = (superstore.Profit / superstore.Sales) * 100\n",
    "superstore"
   ],
   "metadata": {
    "collapsed": false,
    "ExecuteTime": {
     "end_time": "2023-07-16T19:33:02.243833100Z",
     "start_time": "2023-07-16T19:33:02.032474300Z"
    }
   }
  },
  {
   "cell_type": "markdown",
   "source": [
    "Observe the last column above.\n",
    "Now that the data set has been scrubbed, we can proceed with some statistics analysis!\n",
    "<br/>\n",
    "### Descriptive Statistics\n",
    "Here, we will do a descriptive statistical analysis. We use df.describe() and assign ‘include = ‘all’ to ensure that categorical features are also included in the output."
   ],
   "metadata": {
    "collapsed": false
   }
  },
  {
   "cell_type": "code",
   "execution_count": 24,
   "outputs": [
    {
     "name": "stderr",
     "output_type": "stream",
     "text": [
      "C:\\Users\\manan\\AppData\\Local\\Temp\\ipykernel_10788\\754186322.py:2: FutureWarning: Treating datetime data as categorical rather than numeric in `.describe` is deprecated and will be removed in a future version of pandas. Specify `datetime_is_numeric=True` to silence this warning and adopt the future behavior now.\n",
      "  superstore.describe(include = \"all\")\n",
      "C:\\Users\\manan\\AppData\\Local\\Temp\\ipykernel_10788\\754186322.py:2: FutureWarning: Treating datetime data as categorical rather than numeric in `.describe` is deprecated and will be removed in a future version of pandas. Specify `datetime_is_numeric=True` to silence this warning and adopt the future behavior now.\n",
      "  superstore.describe(include = \"all\")\n"
     ]
    },
    {
     "data": {
      "text/plain": "             Row ID        Order ID           Order Date            Ship Date  \\\ncount   9994.000000            9994                 9994                 9994   \nunique          NaN            5009                 1237                 1334   \ntop             NaN  CA-2017-100111  2016-09-05 00:00:00  2015-12-16 00:00:00   \nfreq            NaN              14                   38                   35   \nfirst           NaN             NaN  2014-01-03 00:00:00  2014-01-07 00:00:00   \nlast            NaN             NaN  2017-12-30 00:00:00  2018-01-05 00:00:00   \nmean    4997.500000             NaN                  NaN                  NaN   \nstd     2885.163629             NaN                  NaN                  NaN   \nmin        1.000000             NaN                  NaN                  NaN   \n25%     2499.250000             NaN                  NaN                  NaN   \n50%     4997.500000             NaN                  NaN                  NaN   \n75%     7495.750000             NaN                  NaN                  NaN   \nmax     9994.000000             NaN                  NaN                  NaN   \n\n             Ship Mode Customer ID  Customer Name   Segment        Country  \\\ncount             9994        9994           9994      9994           9994   \nunique               4         793            793         3              1   \ntop     Standard Class    WB-21850  William Brown  Consumer  United States   \nfreq              5968          37             37      5191           9994   \nfirst              NaN         NaN            NaN       NaN            NaN   \nlast               NaN         NaN            NaN       NaN            NaN   \nmean               NaN         NaN            NaN       NaN            NaN   \nstd                NaN         NaN            NaN       NaN            NaN   \nmin                NaN         NaN            NaN       NaN            NaN   \n25%                NaN         NaN            NaN       NaN            NaN   \n50%                NaN         NaN            NaN       NaN            NaN   \n75%                NaN         NaN            NaN       NaN            NaN   \nmax                NaN         NaN            NaN       NaN            NaN   \n\n                 City  ... Region       Product ID         Category  \\\ncount            9994  ...   9994             9994             9994   \nunique            531  ...      4             1862                3   \ntop     New York City  ...   West  OFF-PA-10001970  Office Supplies   \nfreq              915  ...   3203               19             6026   \nfirst             NaN  ...    NaN              NaN              NaN   \nlast              NaN  ...    NaN              NaN              NaN   \nmean              NaN  ...    NaN              NaN              NaN   \nstd               NaN  ...    NaN              NaN              NaN   \nmin               NaN  ...    NaN              NaN              NaN   \n25%               NaN  ...    NaN              NaN              NaN   \n50%               NaN  ...    NaN              NaN              NaN   \n75%               NaN  ...    NaN              NaN              NaN   \nmax               NaN  ...    NaN              NaN              NaN   \n\n       Sub-Category     Product Name         Sales     Quantity     Discount  \\\ncount          9994             9994   9994.000000  9994.000000  9994.000000   \nunique           17             1850           NaN          NaN          NaN   \ntop         Binders  Staple envelope           NaN          NaN          NaN   \nfreq           1523               48           NaN          NaN          NaN   \nfirst           NaN              NaN           NaN          NaN          NaN   \nlast            NaN              NaN           NaN          NaN          NaN   \nmean            NaN              NaN    229.858001     3.789574     0.156203   \nstd             NaN              NaN    623.245101     2.225110     0.206452   \nmin             NaN              NaN      0.444000     1.000000     0.000000   \n25%             NaN              NaN     17.280000     2.000000     0.000000   \n50%             NaN              NaN     54.490000     3.000000     0.200000   \n75%             NaN              NaN    209.940000     5.000000     0.200000   \nmax             NaN              NaN  22638.480000    14.000000     0.800000   \n\n             Profit  Profit Margin %  \ncount   9994.000000      9994.000000  \nunique          NaN              NaN  \ntop             NaN              NaN  \nfreq            NaN              NaN  \nfirst           NaN              NaN  \nlast            NaN              NaN  \nmean      28.656896        12.031393  \nstd      234.260108        46.675435  \nmin    -6599.978000      -275.000000  \n25%        1.728750         7.500000  \n50%        8.666500        27.000000  \n75%       29.364000        36.250000  \nmax     8399.976000        50.000000  \n\n[13 rows x 22 columns]",
      "text/html": "<div>\n<style scoped>\n    .dataframe tbody tr th:only-of-type {\n        vertical-align: middle;\n    }\n\n    .dataframe tbody tr th {\n        vertical-align: top;\n    }\n\n    .dataframe thead th {\n        text-align: right;\n    }\n</style>\n<table border=\"1\" class=\"dataframe\">\n  <thead>\n    <tr style=\"text-align: right;\">\n      <th></th>\n      <th>Row ID</th>\n      <th>Order ID</th>\n      <th>Order Date</th>\n      <th>Ship Date</th>\n      <th>Ship Mode</th>\n      <th>Customer ID</th>\n      <th>Customer Name</th>\n      <th>Segment</th>\n      <th>Country</th>\n      <th>City</th>\n      <th>...</th>\n      <th>Region</th>\n      <th>Product ID</th>\n      <th>Category</th>\n      <th>Sub-Category</th>\n      <th>Product Name</th>\n      <th>Sales</th>\n      <th>Quantity</th>\n      <th>Discount</th>\n      <th>Profit</th>\n      <th>Profit Margin %</th>\n    </tr>\n  </thead>\n  <tbody>\n    <tr>\n      <th>count</th>\n      <td>9994.000000</td>\n      <td>9994</td>\n      <td>9994</td>\n      <td>9994</td>\n      <td>9994</td>\n      <td>9994</td>\n      <td>9994</td>\n      <td>9994</td>\n      <td>9994</td>\n      <td>9994</td>\n      <td>...</td>\n      <td>9994</td>\n      <td>9994</td>\n      <td>9994</td>\n      <td>9994</td>\n      <td>9994</td>\n      <td>9994.000000</td>\n      <td>9994.000000</td>\n      <td>9994.000000</td>\n      <td>9994.000000</td>\n      <td>9994.000000</td>\n    </tr>\n    <tr>\n      <th>unique</th>\n      <td>NaN</td>\n      <td>5009</td>\n      <td>1237</td>\n      <td>1334</td>\n      <td>4</td>\n      <td>793</td>\n      <td>793</td>\n      <td>3</td>\n      <td>1</td>\n      <td>531</td>\n      <td>...</td>\n      <td>4</td>\n      <td>1862</td>\n      <td>3</td>\n      <td>17</td>\n      <td>1850</td>\n      <td>NaN</td>\n      <td>NaN</td>\n      <td>NaN</td>\n      <td>NaN</td>\n      <td>NaN</td>\n    </tr>\n    <tr>\n      <th>top</th>\n      <td>NaN</td>\n      <td>CA-2017-100111</td>\n      <td>2016-09-05 00:00:00</td>\n      <td>2015-12-16 00:00:00</td>\n      <td>Standard Class</td>\n      <td>WB-21850</td>\n      <td>William Brown</td>\n      <td>Consumer</td>\n      <td>United States</td>\n      <td>New York City</td>\n      <td>...</td>\n      <td>West</td>\n      <td>OFF-PA-10001970</td>\n      <td>Office Supplies</td>\n      <td>Binders</td>\n      <td>Staple envelope</td>\n      <td>NaN</td>\n      <td>NaN</td>\n      <td>NaN</td>\n      <td>NaN</td>\n      <td>NaN</td>\n    </tr>\n    <tr>\n      <th>freq</th>\n      <td>NaN</td>\n      <td>14</td>\n      <td>38</td>\n      <td>35</td>\n      <td>5968</td>\n      <td>37</td>\n      <td>37</td>\n      <td>5191</td>\n      <td>9994</td>\n      <td>915</td>\n      <td>...</td>\n      <td>3203</td>\n      <td>19</td>\n      <td>6026</td>\n      <td>1523</td>\n      <td>48</td>\n      <td>NaN</td>\n      <td>NaN</td>\n      <td>NaN</td>\n      <td>NaN</td>\n      <td>NaN</td>\n    </tr>\n    <tr>\n      <th>first</th>\n      <td>NaN</td>\n      <td>NaN</td>\n      <td>2014-01-03 00:00:00</td>\n      <td>2014-01-07 00:00:00</td>\n      <td>NaN</td>\n      <td>NaN</td>\n      <td>NaN</td>\n      <td>NaN</td>\n      <td>NaN</td>\n      <td>NaN</td>\n      <td>...</td>\n      <td>NaN</td>\n      <td>NaN</td>\n      <td>NaN</td>\n      <td>NaN</td>\n      <td>NaN</td>\n      <td>NaN</td>\n      <td>NaN</td>\n      <td>NaN</td>\n      <td>NaN</td>\n      <td>NaN</td>\n    </tr>\n    <tr>\n      <th>last</th>\n      <td>NaN</td>\n      <td>NaN</td>\n      <td>2017-12-30 00:00:00</td>\n      <td>2018-01-05 00:00:00</td>\n      <td>NaN</td>\n      <td>NaN</td>\n      <td>NaN</td>\n      <td>NaN</td>\n      <td>NaN</td>\n      <td>NaN</td>\n      <td>...</td>\n      <td>NaN</td>\n      <td>NaN</td>\n      <td>NaN</td>\n      <td>NaN</td>\n      <td>NaN</td>\n      <td>NaN</td>\n      <td>NaN</td>\n      <td>NaN</td>\n      <td>NaN</td>\n      <td>NaN</td>\n    </tr>\n    <tr>\n      <th>mean</th>\n      <td>4997.500000</td>\n      <td>NaN</td>\n      <td>NaN</td>\n      <td>NaN</td>\n      <td>NaN</td>\n      <td>NaN</td>\n      <td>NaN</td>\n      <td>NaN</td>\n      <td>NaN</td>\n      <td>NaN</td>\n      <td>...</td>\n      <td>NaN</td>\n      <td>NaN</td>\n      <td>NaN</td>\n      <td>NaN</td>\n      <td>NaN</td>\n      <td>229.858001</td>\n      <td>3.789574</td>\n      <td>0.156203</td>\n      <td>28.656896</td>\n      <td>12.031393</td>\n    </tr>\n    <tr>\n      <th>std</th>\n      <td>2885.163629</td>\n      <td>NaN</td>\n      <td>NaN</td>\n      <td>NaN</td>\n      <td>NaN</td>\n      <td>NaN</td>\n      <td>NaN</td>\n      <td>NaN</td>\n      <td>NaN</td>\n      <td>NaN</td>\n      <td>...</td>\n      <td>NaN</td>\n      <td>NaN</td>\n      <td>NaN</td>\n      <td>NaN</td>\n      <td>NaN</td>\n      <td>623.245101</td>\n      <td>2.225110</td>\n      <td>0.206452</td>\n      <td>234.260108</td>\n      <td>46.675435</td>\n    </tr>\n    <tr>\n      <th>min</th>\n      <td>1.000000</td>\n      <td>NaN</td>\n      <td>NaN</td>\n      <td>NaN</td>\n      <td>NaN</td>\n      <td>NaN</td>\n      <td>NaN</td>\n      <td>NaN</td>\n      <td>NaN</td>\n      <td>NaN</td>\n      <td>...</td>\n      <td>NaN</td>\n      <td>NaN</td>\n      <td>NaN</td>\n      <td>NaN</td>\n      <td>NaN</td>\n      <td>0.444000</td>\n      <td>1.000000</td>\n      <td>0.000000</td>\n      <td>-6599.978000</td>\n      <td>-275.000000</td>\n    </tr>\n    <tr>\n      <th>25%</th>\n      <td>2499.250000</td>\n      <td>NaN</td>\n      <td>NaN</td>\n      <td>NaN</td>\n      <td>NaN</td>\n      <td>NaN</td>\n      <td>NaN</td>\n      <td>NaN</td>\n      <td>NaN</td>\n      <td>NaN</td>\n      <td>...</td>\n      <td>NaN</td>\n      <td>NaN</td>\n      <td>NaN</td>\n      <td>NaN</td>\n      <td>NaN</td>\n      <td>17.280000</td>\n      <td>2.000000</td>\n      <td>0.000000</td>\n      <td>1.728750</td>\n      <td>7.500000</td>\n    </tr>\n    <tr>\n      <th>50%</th>\n      <td>4997.500000</td>\n      <td>NaN</td>\n      <td>NaN</td>\n      <td>NaN</td>\n      <td>NaN</td>\n      <td>NaN</td>\n      <td>NaN</td>\n      <td>NaN</td>\n      <td>NaN</td>\n      <td>NaN</td>\n      <td>...</td>\n      <td>NaN</td>\n      <td>NaN</td>\n      <td>NaN</td>\n      <td>NaN</td>\n      <td>NaN</td>\n      <td>54.490000</td>\n      <td>3.000000</td>\n      <td>0.200000</td>\n      <td>8.666500</td>\n      <td>27.000000</td>\n    </tr>\n    <tr>\n      <th>75%</th>\n      <td>7495.750000</td>\n      <td>NaN</td>\n      <td>NaN</td>\n      <td>NaN</td>\n      <td>NaN</td>\n      <td>NaN</td>\n      <td>NaN</td>\n      <td>NaN</td>\n      <td>NaN</td>\n      <td>NaN</td>\n      <td>...</td>\n      <td>NaN</td>\n      <td>NaN</td>\n      <td>NaN</td>\n      <td>NaN</td>\n      <td>NaN</td>\n      <td>209.940000</td>\n      <td>5.000000</td>\n      <td>0.200000</td>\n      <td>29.364000</td>\n      <td>36.250000</td>\n    </tr>\n    <tr>\n      <th>max</th>\n      <td>9994.000000</td>\n      <td>NaN</td>\n      <td>NaN</td>\n      <td>NaN</td>\n      <td>NaN</td>\n      <td>NaN</td>\n      <td>NaN</td>\n      <td>NaN</td>\n      <td>NaN</td>\n      <td>NaN</td>\n      <td>...</td>\n      <td>NaN</td>\n      <td>NaN</td>\n      <td>NaN</td>\n      <td>NaN</td>\n      <td>NaN</td>\n      <td>22638.480000</td>\n      <td>14.000000</td>\n      <td>0.800000</td>\n      <td>8399.976000</td>\n      <td>50.000000</td>\n    </tr>\n  </tbody>\n</table>\n<p>13 rows × 22 columns</p>\n</div>"
     },
     "execution_count": 24,
     "metadata": {},
     "output_type": "execute_result"
    }
   ],
   "source": [
    "# Get descriptive statistics summary\n",
    "superstore.describe(include = \"all\")"
   ],
   "metadata": {
    "collapsed": false,
    "ExecuteTime": {
     "end_time": "2023-07-16T19:37:34.967019400Z",
     "start_time": "2023-07-16T19:37:34.681648500Z"
    }
   }
  },
  {
   "cell_type": "markdown",
   "source": [
    "You will see ‘NaN’ in some of the categorical columns and that’s perfectly fine. Categorical values are not meant to have calculations performed on them, so we can ignore those. These are commonly Text fields, hence NaN: Not a Number. Observe the difference from the output earlier of the same method without include==\"all\" parameter.\n",
    "\n",
    "What we want to focus on is the unique count and frequency of the categorical features such as\n",
    "- There are 4 ship modes and 3 customer segments. Nearly half of the orders are from the Consumer segment using Standard Class shipment.\n",
    "- The store carries 3 category of items with 17 \"sub-category.\" 60% of orders are for Office Supplies, and at least 15 % of purchases are for Binders.\n",
    "\n",
    "While for numerical parameters, it’s interesting to note that \n",
    "- 75% of orders makes at least 36% profit margin.\n",
    "- Loss-making orders can go up to 275% losses. We must place emphasis on these loss-making sales to cut them off.\n",
    "\n",
    "We will perform some analysis below to test these observations.\n",
    "\n",
    "### Exploratory Data Analysis\n",
    "1. Which Category is Best Selling and Most Profitable?\n",
    "Best Selling means looking at the Sales and Most Profitable is referring to the Profit. We will group the Sales, Profit and also Quantity by Category and run the df.group().sum and pd.DataFrame() functions."
   ],
   "metadata": {
    "collapsed": false
   }
  },
  {
   "cell_type": "code",
   "execution_count": null,
   "outputs": [],
   "source": [],
   "metadata": {
    "collapsed": false
   }
  }
 ],
 "metadata": {
  "kernelspec": {
   "display_name": "Python 3",
   "language": "python",
   "name": "python3"
  },
  "language_info": {
   "codemirror_mode": {
    "name": "ipython",
    "version": 2
   },
   "file_extension": ".py",
   "mimetype": "text/x-python",
   "name": "python",
   "nbconvert_exporter": "python",
   "pygments_lexer": "ipython2",
   "version": "2.7.6"
  }
 },
 "nbformat": 4,
 "nbformat_minor": 0
}
